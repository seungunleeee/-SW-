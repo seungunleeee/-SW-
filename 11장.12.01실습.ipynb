{
 "cells": [
  {
   "cell_type": "code",
   "execution_count": 1,
   "id": "84d6479d",
   "metadata": {},
   "outputs": [
    {
     "data": {
      "text/plain": [
       "array([0, 1, 2, 3, 4, 5, 6, 7, 8, 9])"
      ]
     },
     "execution_count": 1,
     "metadata": {},
     "output_type": "execute_result"
    }
   ],
   "source": [
    "import numpy as np\n",
    "a = np.array([0, 1, 2, 3, 4, 5, 6, 7, 8, 9])\n",
    "a"
   ]
  },
  {
   "cell_type": "code",
   "execution_count": 2,
   "id": "3f00d36c",
   "metadata": {},
   "outputs": [
    {
     "data": {
      "text/plain": [
       "array([0, 1, 2, 3, 4, 5, 6, 7, 8, 9])"
      ]
     },
     "execution_count": 2,
     "metadata": {},
     "output_type": "execute_result"
    }
   ],
   "source": [
    "b = np.array(range(0, 10))\n",
    "b"
   ]
  },
  {
   "cell_type": "code",
   "execution_count": 3,
   "id": "629d1e80",
   "metadata": {},
   "outputs": [
    {
     "data": {
      "text/plain": [
       "array([0, 2, 4, 6, 8])"
      ]
     },
     "execution_count": 3,
     "metadata": {},
     "output_type": "execute_result"
    }
   ],
   "source": [
    "c = np.array(range(0, 10, 2))\n",
    "c"
   ]
  },
  {
   "cell_type": "code",
   "execution_count": 4,
   "id": "eefce70c",
   "metadata": {},
   "outputs": [
    {
     "name": "stdout",
     "output_type": "stream",
     "text": [
      "c.shape = (5,)\n",
      "c.ndim = 1\n",
      "c.dtype = int32\n",
      "c.size = 5\n",
      "c.itemsize = 4\n"
     ]
    }
   ],
   "source": [
    "print('c.shape = {}'.format(c.shape))\n",
    "print('c.ndim = {}'.format(c.ndim))\n",
    "print('c.dtype = {}'.format(c.dtype))\n",
    "print('c.size = {}'.format(c.size))\n",
    "print('c.itemsize = {}'.format(c.itemsize))"
   ]
  },
  {
   "cell_type": "code",
   "execution_count": 5,
   "id": "0c7fa753",
   "metadata": {},
   "outputs": [
    {
     "name": "stdout",
     "output_type": "stream",
     "text": [
      "a = [23 45 67  7  2 30 34 82]\n",
      "최댓값 : 82\n",
      "최솟값 : 2\n",
      "평균 : 36.25\n"
     ]
    }
   ],
   "source": [
    "a = np.array([23, 45, 67, 7, 2, 30, 34, 82])\n",
    "print('a = {}'.format(a))\n",
    "print('최댓값 : {}'.format(a.max())) \n",
    "print('최솟값 : {}'.format(a.min())) \n",
    "print('평균 : {}'.format(a.mean())) "
   ]
  },
  {
   "cell_type": "code",
   "execution_count": 6,
   "id": "d6c4dd81",
   "metadata": {},
   "outputs": [
    {
     "name": "stdout",
     "output_type": "stream",
     "text": [
      "b = [55  1 96 90 26 34  3 23 22 43]\n",
      "최댓값 : 96\n",
      "최솟값 : 1\n",
      "평균 : 39.3\n"
     ]
    }
   ],
   "source": [
    "b = np.random.randint(0, 100, size=10)\n",
    "print('b = {}'.format(b))\n",
    "print('최댓값 : {}'.format(b.max())) \n",
    "print('최솟값 : {}'.format(b.min())) \n",
    "print('평균 : {}'.format(b.mean())) "
   ]
  },
  {
   "cell_type": "code",
   "execution_count": 7,
   "id": "4dbf72fe",
   "metadata": {},
   "outputs": [
    {
     "name": "stdout",
     "output_type": "stream",
     "text": [
      "c = [23 45 67  7  2 30 34 82 55  1 96 90 26 34  3 23 22 43]\n"
     ]
    }
   ],
   "source": [
    "c = np.append(a, b)\n",
    "print('c = {}'.format(c))"
   ]
  },
  {
   "cell_type": "code",
   "execution_count": 8,
   "id": "e8bbd815",
   "metadata": {},
   "outputs": [
    {
     "name": "stdout",
     "output_type": "stream",
     "text": [
      "a = [[1 2 3]\n",
      " [4 5 6]\n",
      " [7 8 9]]\n"
     ]
    }
   ],
   "source": [
    "a = np.arange(1, 10, 1).reshape(3,3)\n",
    "print('a = {}'.format(a))"
   ]
  },
  {
   "cell_type": "code",
   "execution_count": 9,
   "id": "988d74eb",
   "metadata": {},
   "outputs": [
    {
     "name": "stdout",
     "output_type": "stream",
     "text": [
      "b = [[2 2 2]\n",
      " [2 2 2]\n",
      " [2 2 2]]\n"
     ]
    }
   ],
   "source": [
    "b = np.array([[2, 2, 2], [2, 2, 2], [2, 2, 2]])\n",
    "print('b = {}'.format(b))"
   ]
  },
  {
   "cell_type": "code",
   "execution_count": 10,
   "id": "c3a67752",
   "metadata": {},
   "outputs": [
    {
     "data": {
      "text/plain": [
       "array([[2, 2, 2],\n",
       "       [2, 2, 2],\n",
       "       [2, 2, 2]])"
      ]
     },
     "execution_count": 10,
     "metadata": {},
     "output_type": "execute_result"
    }
   ],
   "source": [
    "np.full((3,3), 2)"
   ]
  },
  {
   "cell_type": "code",
   "execution_count": 11,
   "id": "36152b87",
   "metadata": {},
   "outputs": [
    {
     "data": {
      "text/plain": [
       "array([[ 3,  4,  5],\n",
       "       [ 6,  7,  8],\n",
       "       [ 9, 10, 11]])"
      ]
     },
     "execution_count": 11,
     "metadata": {},
     "output_type": "execute_result"
    }
   ],
   "source": [
    "a + b"
   ]
  },
  {
   "cell_type": "code",
   "execution_count": 12,
   "id": "0cfb27a0",
   "metadata": {},
   "outputs": [
    {
     "data": {
      "text/plain": [
       "array([[-1,  0,  1],\n",
       "       [ 2,  3,  4],\n",
       "       [ 5,  6,  7]])"
      ]
     },
     "execution_count": 12,
     "metadata": {},
     "output_type": "execute_result"
    }
   ],
   "source": [
    "a - b"
   ]
  },
  {
   "cell_type": "code",
   "execution_count": 13,
   "id": "8409b837",
   "metadata": {},
   "outputs": [
    {
     "data": {
      "text/plain": [
       "array([[ 2,  4,  6],\n",
       "       [ 8, 10, 12],\n",
       "       [14, 16, 18]])"
      ]
     },
     "execution_count": 13,
     "metadata": {},
     "output_type": "execute_result"
    }
   ],
   "source": [
    "a * b"
   ]
  },
  {
   "cell_type": "code",
   "execution_count": 14,
   "id": "36ee1bf3",
   "metadata": {},
   "outputs": [
    {
     "data": {
      "text/plain": [
       "array([[0.5, 1. , 1.5],\n",
       "       [2. , 2.5, 3. ],\n",
       "       [3.5, 4. , 4.5]])"
      ]
     },
     "execution_count": 14,
     "metadata": {},
     "output_type": "execute_result"
    }
   ],
   "source": [
    "a / b"
   ]
  },
  {
   "cell_type": "code",
   "execution_count": 15,
   "id": "cd9977bf",
   "metadata": {},
   "outputs": [
    {
     "data": {
      "text/plain": [
       "array([[12, 12, 12],\n",
       "       [30, 30, 30],\n",
       "       [48, 48, 48]])"
      ]
     },
     "execution_count": 15,
     "metadata": {},
     "output_type": "execute_result"
    }
   ],
   "source": [
    "a @ b"
   ]
  },
  {
   "cell_type": "code",
   "execution_count": 16,
   "id": "aea14b57",
   "metadata": {},
   "outputs": [
    {
     "data": {
      "text/plain": [
       "array([[ 1,  4,  9],\n",
       "       [16, 25, 36],\n",
       "       [49, 64, 81]], dtype=int32)"
      ]
     },
     "execution_count": 16,
     "metadata": {},
     "output_type": "execute_result"
    }
   ],
   "source": [
    "a ** b"
   ]
  },
  {
   "cell_type": "code",
   "execution_count": 17,
   "id": "62277db9",
   "metadata": {},
   "outputs": [
    {
     "name": "stdout",
     "output_type": "stream",
     "text": [
      "a1 = [[2 2 2]\n",
      " [2 2 2]\n",
      " [2 2 2]]\n"
     ]
    }
   ],
   "source": [
    "a1 = np.full((3,3), 2)\n",
    "print('a1 =', a1)"
   ]
  },
  {
   "cell_type": "code",
   "execution_count": 18,
   "id": "aff6c2d6",
   "metadata": {},
   "outputs": [
    {
     "name": "stdout",
     "output_type": "stream",
     "text": [
      "a2 =  [ 1  2  3  4  5  6  7  8  9 10 11 12]\n"
     ]
    }
   ],
   "source": [
    "a2 = np.arange(1, 13)\n",
    "print('a2 = ', a2)"
   ]
  },
  {
   "cell_type": "code",
   "execution_count": 19,
   "id": "0d2e6a6e",
   "metadata": {},
   "outputs": [
    {
     "name": "stdout",
     "output_type": "stream",
     "text": [
      "a3 =  [ 3  6  9 12 15 18 21 24 27 30 33 36 39 42 45 48]\n"
     ]
    }
   ],
   "source": [
    "a3 = np.arange(3, 50, 3)\n",
    "print('a3 = ', a3)"
   ]
  },
  {
   "cell_type": "code",
   "execution_count": 20,
   "id": "a8b7a88d",
   "metadata": {},
   "outputs": [
    {
     "name": "stdout",
     "output_type": "stream",
     "text": [
      "a4 = [ 0.  5. 10. 15. 20.]\n"
     ]
    }
   ],
   "source": [
    "a4 = np.linspace(0, 20, 5)\n",
    "print('a4 =', a4)"
   ]
  },
  {
   "cell_type": "code",
   "execution_count": 21,
   "id": "cba6805d",
   "metadata": {},
   "outputs": [
    {
     "name": "stdout",
     "output_type": "stream",
     "text": [
      "a1 = [[ 1  2  3  4  5  6]\n",
      " [ 7  8  9 10 11 12]]\n"
     ]
    }
   ],
   "source": [
    "a1 = np.arange(1, 13).reshape(2, 6)\n",
    "print('a1 =', a1)"
   ]
  },
  {
   "cell_type": "code",
   "execution_count": 22,
   "id": "e7127f15",
   "metadata": {},
   "outputs": [
    {
     "name": "stdout",
     "output_type": "stream",
     "text": [
      "a2 = [[ 1  2  3  4  5  6  7  8  9 10]\n",
      " [11 12 13 14 15 16 17 18 19 20]\n",
      " [21 22 23 24 25 26 27 28 29 30]]\n"
     ]
    }
   ],
   "source": [
    "a2 = np.arange(1, 31).reshape(3, 10)\n",
    "print('a2 =', a2)"
   ]
  },
  {
   "cell_type": "code",
   "execution_count": 23,
   "id": "786a656b",
   "metadata": {},
   "outputs": [
    {
     "name": "stdout",
     "output_type": "stream",
     "text": [
      "a3 = [[ 1  2  3  4  5]\n",
      " [ 6  7  8  9 10]\n",
      " [11 12 13 14 15]\n",
      " [16 17 18 19 20]\n",
      " [21 22 23 24 25]\n",
      " [26 27 28 29 30]]\n"
     ]
    }
   ],
   "source": [
    "a3 = a2.reshape(6, 5)\n",
    "print('a3 =', a3)"
   ]
  },
  {
   "cell_type": "code",
   "execution_count": 24,
   "id": "2ab51f1e",
   "metadata": {},
   "outputs": [
    {
     "name": "stdout",
     "output_type": "stream",
     "text": [
      "a4 = [[ 1  6 11 16 21 26]\n",
      " [ 2  7 12 17 22 27]\n",
      " [ 3  8 13 18 23 28]\n",
      " [ 4  9 14 19 24 29]\n",
      " [ 5 10 15 20 25 30]]\n"
     ]
    }
   ],
   "source": [
    "a4 = np.transpose(a3)\n",
    "print('a4 =', a4)"
   ]
  },
  {
   "cell_type": "code",
   "execution_count": 26,
   "id": "df835c9d",
   "metadata": {},
   "outputs": [
    {
     "name": "stdout",
     "output_type": "stream",
     "text": [
      "a = [[97 15 55 58 89]\n",
      " [73 60 42 28 12]\n",
      " [36 81 71 37 41]]\n",
      "a의 열방향 최댓값 : [97 81 71 58 89]\n",
      "a의 열방향 최솟값 : [36 15 42 28 12]\n",
      "a의 열방향 평균 : [68.66666667 52.         56.         41.         47.33333333]\n"
     ]
    }
   ],
   "source": [
    "\n",
    "a = np.random.randint(0, 100, size=15).reshape(3, 5)\n",
    "print('a =', a)\n",
    "print('a의 열방향 최댓값 :', a.max(axis=0))\n",
    "print('a의 열방향 최솟값 :', a.min(axis=0))\n",
    "print('a의 열방향 평균 :', a.mean(axis=0))"
   ]
  },
  {
   "cell_type": "code",
   "execution_count": 27,
   "id": "1d954610",
   "metadata": {},
   "outputs": [
    {
     "name": "stdout",
     "output_type": "stream",
     "text": [
      "a의 행방향 최댓값 : [97 73 81]\n",
      "a의 행방향 최솟값 : [15 12 36]\n",
      "a의 행방향 평균 : [62.8 43.  53.2]\n"
     ]
    }
   ],
   "source": [
    "print('a의 행방향 최댓값 :', a.max(axis=1))\n",
    "print('a의 행방향 최솟값 :', a.min(axis=1))\n",
    "print('a의 행방향 평균 :', a.mean(axis=1))"
   ]
  },
  {
   "cell_type": "code",
   "execution_count": 28,
   "id": "a1463447",
   "metadata": {},
   "outputs": [
    {
     "name": "stdout",
     "output_type": "stream",
     "text": [
      "a = [ 1  2  3  4  5  6  7  8  9 10]\n",
      "b = [2 4 6 8]\n"
     ]
    }
   ],
   "source": [
    "a = np.arange(1, 11)\n",
    "print('a =', a)\n",
    "b = a[np.array([1, 3, 5, 7])]\n",
    "print('b =', b)"
   ]
  },
  {
   "cell_type": "code",
   "execution_count": 29,
   "id": "e6cbc5cb",
   "metadata": {},
   "outputs": [
    {
     "name": "stdout",
     "output_type": "stream",
     "text": [
      "b = [ 6  7  8  9 10]\n"
     ]
    }
   ],
   "source": [
    "b = a[5:]\n",
    "print('b =', b)"
   ]
  },
  {
   "cell_type": "code",
   "execution_count": 30,
   "id": "001d0b5a",
   "metadata": {},
   "outputs": [
    {
     "name": "stdout",
     "output_type": "stream",
     "text": [
      "c = [ 7  8  9 10]\n"
     ]
    }
   ],
   "source": [
    "c = a[6:]\n",
    "print('c =', c)"
   ]
  },
  {
   "cell_type": "code",
   "execution_count": 32,
   "id": "291895c1",
   "metadata": {},
   "outputs": [
    {
     "name": "stdout",
     "output_type": "stream",
     "text": [
      "d = [1 2 3]\n"
     ]
    }
   ],
   "source": [
    "d = a[:3]\n",
    "print('d =', d)"
   ]
  },
  {
   "cell_type": "code",
   "execution_count": 33,
   "id": "4f86f09d",
   "metadata": {},
   "outputs": [
    {
     "name": "stdout",
     "output_type": "stream",
     "text": [
      "e = [1 3 5 7 9]\n"
     ]
    }
   ],
   "source": [
    "e = a[::2]\n",
    "print('e =', e)"
   ]
  },
  {
   "cell_type": "code",
   "execution_count": 34,
   "id": "cf708d35",
   "metadata": {},
   "outputs": [
    {
     "name": "stdout",
     "output_type": "stream",
     "text": [
      "f = [10  8  6  4  2]\n"
     ]
    }
   ],
   "source": [
    "f = a[::-2]\n",
    "print('f =', f)"
   ]
  },
  {
   "cell_type": "code",
   "execution_count": 35,
   "id": "6ea1466b",
   "metadata": {},
   "outputs": [
    {
     "name": "stdout",
     "output_type": "stream",
     "text": [
      "index        element\n",
      "(0, 0, 0)      0\n",
      "(0, 0, 1)      1\n",
      "(0, 1, 0)      2\n",
      "(0, 1, 1)      3\n",
      "(0, 2, 0)      4\n",
      "(0, 2, 1)      5\n",
      "(1, 0, 0)      6\n",
      "(1, 0, 1)      7\n",
      "(1, 1, 0)      8\n",
      "(1, 1, 1)      9\n",
      "(1, 2, 0)     10\n",
      "(1, 2, 1)     11\n",
      "(2, 0, 0)     12\n",
      "(2, 0, 1)     13\n",
      "(2, 1, 0)     14\n",
      "(2, 1, 1)     15\n",
      "(2, 2, 0)     16\n",
      "(2, 2, 1)     17\n",
      "(3, 0, 0)     18\n",
      "(3, 0, 1)     19\n",
      "(3, 1, 0)     20\n",
      "(3, 1, 1)     21\n",
      "(3, 2, 0)     22\n",
      "(3, 2, 1)     23\n"
     ]
    }
   ],
   "source": [
    "a = np.arange(0, 24).reshape(4, 3, 2)\n",
    "\n",
    "print('{:13s}{:5s}'.format('index', 'element'))\n",
    "for i in np.ndindex(a.shape):\n",
    "    print('{}{:7d}'.format(i, a[i]))"
   ]
  },
  {
   "cell_type": "code",
   "execution_count": 36,
   "id": "a44cca85",
   "metadata": {},
   "outputs": [
    {
     "data": {
      "text/plain": [
       "array([[ 0,  1,  6,  7],\n",
       "       [ 2,  3,  8,  9],\n",
       "       [ 4,  5, 10, 11]])"
      ]
     },
     "execution_count": 36,
     "metadata": {},
     "output_type": "execute_result"
    }
   ],
   "source": [
    "np.concatenate((a[0, 0], a[1, 0]), axis=0)\n",
    "np.concatenate((a[0, 0], a[2, 1]), axis=0)\n",
    "np.concatenate((a[0], a[1]), axis=0)\n",
    "np.concatenate((a[0], a[1]), axis=1)"
   ]
  },
  {
   "cell_type": "code",
   "execution_count": 38,
   "id": "49402976",
   "metadata": {},
   "outputs": [
    {
     "name": "stdout",
     "output_type": "stream",
     "text": [
      "행렬 a :\n",
      "[[ 0  1  2  3]\n",
      " [ 4  5  6  7]\n",
      " [ 8  9 10 11]\n",
      " [12 13 14 15]]\n",
      "b = [ 1  5  9 13]\n",
      "c = [ 9 10 11]\n",
      "d = [[0 1]\n",
      " [4 5]]\n",
      "e = [[ 5  6]\n",
      " [ 9 10]]\n"
     ]
    }
   ],
   "source": [
    "a = np.arange(0, 16).reshape(4, 4)\n",
    "print('행렬 a :')\n",
    "print(a)\n",
    "b = a[:, 1]\n",
    "print('b =', b)\n",
    "c = a[2, 1:]\n",
    "print('c =', c)\n",
    "d = a[:2, :2]\n",
    "print('d =', d)\n",
    "e = a[1:3, 1:3]\n",
    "print('e =', e)"
   ]
  },
  {
   "cell_type": "code",
   "execution_count": 39,
   "id": "65bf244c",
   "metadata": {},
   "outputs": [
    {
     "name": "stdout",
     "output_type": "stream",
     "text": [
      "f = [0 1 2 4 5 6]\n",
      "g = [ 8  9 10 11 12 13 14 15]\n",
      "h = [ 5  6  7 13 14 15]\n"
     ]
    }
   ],
   "source": [
    "f = a[0:2, 0:3].flatten()\n",
    "print('f =', f)\n",
    "g = a[2:, :].flatten()\n",
    "print('g =', g)\n",
    "h = np.concatenate((a[1, 1:4], a[3, 1:4])).flatten()\n",
    "print('h =', h)"
   ]
  },
  {
   "cell_type": "code",
   "execution_count": 40,
   "id": "7ab437ec",
   "metadata": {},
   "outputs": [
    {
     "name": "stdout",
     "output_type": "stream",
     "text": [
      "x =  1.0, y =  2.0, z =  3.0\n"
     ]
    }
   ],
   "source": [
    "A = np.array([[1, 1, -1], [2, -1, 3], [1, 2, 1]], dtype='int32')\n",
    "B = np.array([0, 9, 8], dtype='int32')\n",
    "x = np.linalg.solve(A, B)\n",
    "print('x = {:4.1f}, y = {:4.1f}, z = {:4.1f}'.format(x[0], x[1], x[2]))"
   ]
  },
  {
   "cell_type": "code",
   "execution_count": 41,
   "id": "9369fda5",
   "metadata": {},
   "outputs": [
    {
     "name": "stdout",
     "output_type": "stream",
     "text": [
      "det(A) = -11.0\n"
     ]
    }
   ],
   "source": [
    "A = np.array([[1, 1, -1], [2, -1, 3], [1, 2, 1]], dtype='int32')\n",
    "det = np.linalg.det(A)\n",
    "print('det(A) = {:4.1f}'.format(det))"
   ]
  },
  {
   "cell_type": "code",
   "execution_count": 42,
   "id": "54bebb48",
   "metadata": {},
   "outputs": [
    {
     "name": "stdout",
     "output_type": "stream",
     "text": [
      "det(A) = -11.0\n"
     ]
    }
   ],
   "source": [
    "a1 = np.array([[-1, 3], [2, 1]])\n",
    "a2 = np.array([[2, 3], [1, 1]])\n",
    "a3 = np.array([[2, -1], [1, 2]])\n",
    "det = 1 * np.linalg.det(a1) - 1 * np.linalg.det(a2) - 1 * np.linalg.det(a3)\n",
    "print('det(A) = {:4.1f}'.format(det))"
   ]
  },
  {
   "cell_type": "code",
   "execution_count": 43,
   "id": "1858869a",
   "metadata": {},
   "outputs": [
    {
     "name": "stdout",
     "output_type": "stream",
     "text": [
      "a = [0 0 0 0 0 0 0 0 0 0]\n"
     ]
    }
   ],
   "source": [
    "a = np.array([0, 0, 0, 0, 0, 0, 0, 0, 0, 0])\n",
    "print('a =', a)"
   ]
  },
  {
   "cell_type": "code",
   "execution_count": 44,
   "id": "39a581ee",
   "metadata": {},
   "outputs": [
    {
     "name": "stdout",
     "output_type": "stream",
     "text": [
      "4\n",
      "(10,)\n"
     ]
    }
   ],
   "source": [
    "n_arr = np.array([1, 2, 3, 4, 5, 6, 7, 8, 9, 10], dtype='int32')\n",
    "print(n_arr.itemsize)\n",
    "print(n_arr.shape)"
   ]
  },
  {
   "cell_type": "code",
   "execution_count": 45,
   "id": "d0bc7ffe",
   "metadata": {},
   "outputs": [
    {
     "ename": "SyntaxError",
     "evalue": "invalid syntax (639732358.py, line 1)",
     "output_type": "error",
     "traceback": [
      "\u001b[1;36m  Input \u001b[1;32mIn [45]\u001b[1;36m\u001b[0m\n\u001b[1;33m    n_arr = np.array([1,2,3,4,5 6,7,8,9,10], dtype='int64')\u001b[0m\n\u001b[1;37m                                ^\u001b[0m\n\u001b[1;31mSyntaxError\u001b[0m\u001b[1;31m:\u001b[0m invalid syntax\n"
     ]
    }
   ],
   "source": [
    "n_arr = np.array([1,2,3,4,5 6,7,8,9,10], dtype='int64')\n",
    "print('n_arr의 크기 :{} bytes'.format(n_arr.itemsize * n_arr.size))"
   ]
  },
  {
   "cell_type": "code",
   "execution_count": 47,
   "id": "f8ae2a30",
   "metadata": {},
   "outputs": [
    {
     "name": "stdout",
     "output_type": "stream",
     "text": [
      "n_arr의 크기:32 bytes\n"
     ]
    }
   ],
   "source": [
    "n_arr = np.array([1.5,2.2,3.2,4.9], dtype='float64')\n",
    "print('n_arr의 크기:{} bytes'.format(n_arr.itemsize * n_arr.size))"
   ]
  },
  {
   "cell_type": "code",
   "execution_count": 48,
   "id": "cb65353f",
   "metadata": {},
   "outputs": [
    {
     "name": "stdout",
     "output_type": "stream",
     "text": [
      "a = [ 1  2  3  4  5  6  7  8  9 10]\n",
      "a = [10  9  8  7  6  5  4  3  2  1]\n",
      "[[10  9  8  7  6]\n",
      " [ 5  4  3  2  1]]\n",
      "[[10  9]\n",
      " [ 8  7]\n",
      " [ 6  5]\n",
      " [ 4  3]\n",
      " [ 2  1]]\n"
     ]
    }
   ],
   "source": [
    "a = np.arange(1, 11)\n",
    "print('a =', a)\n",
    "a = a[::-1]\n",
    "print('a =', a)\n",
    "a = a.reshape(2,5)\n",
    "print(a)\n",
    "a = a.reshape(5, 2)\n",
    "print(a)"
   ]
  },
  {
   "cell_type": "code",
   "execution_count": 49,
   "id": "94b5c5f9",
   "metadata": {},
   "outputs": [
    {
     "name": "stdout",
     "output_type": "stream",
     "text": [
      "[[ 1  2  3  4]\n",
      " [ 5  6  7  8]\n",
      " [ 9 10 11 12]\n",
      " [13 14 15 16]]\n"
     ]
    }
   ],
   "source": [
    "print(np.arange(1, 17).reshape(4,4))"
   ]
  },
  {
   "cell_type": "code",
   "execution_count": null,
   "id": "dd21873d",
   "metadata": {},
   "outputs": [],
   "source": []
  }
 ],
 "metadata": {
  "kernelspec": {
   "display_name": "Python 3 (ipykernel)",
   "language": "python",
   "name": "python3"
  },
  "language_info": {
   "codemirror_mode": {
    "name": "ipython",
    "version": 3
   },
   "file_extension": ".py",
   "mimetype": "text/x-python",
   "name": "python",
   "nbconvert_exporter": "python",
   "pygments_lexer": "ipython3",
   "version": "3.9.12"
  }
 },
 "nbformat": 4,
 "nbformat_minor": 5
}
