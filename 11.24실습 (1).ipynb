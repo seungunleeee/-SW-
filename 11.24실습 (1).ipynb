{
 "cells": [
  {
   "cell_type": "code",
   "execution_count": 15,
   "id": "d3b51304",
   "metadata": {},
   "outputs": [
    {
     "name": "stdout",
     "output_type": "stream",
     "text": [
      "200-100: 100\n",
      "200 - 100 :  100\n"
     ]
    }
   ],
   "source": [
    "def sub(x,y):\n",
    "    return x-y\n",
    "print(\"200-100:\",sub(200,100))\n",
    "\n",
    "print(\"200 - 100 : \",(lambda x,y:x-y)(200,100) )"
   ]
  },
  {
   "cell_type": "code",
   "execution_count": null,
   "id": "4910b92b",
   "metadata": {},
   "outputs": [],
   "source": []
  },
  {
   "cell_type": "code",
   "execution_count": 16,
   "id": "ee17a9bb",
   "metadata": {},
   "outputs": [
    {
     "name": "stdout",
     "output_type": "stream",
     "text": [
      "[-30, -5, -90, -36]\n"
     ]
    }
   ],
   "source": [
    "n_list = [-30,45,-5, -90, 20 ,54,77, -36]\n",
    "minus_list =[]\n",
    "for n in filter(lambda x: x<0,n_list):\n",
    "    minus_list.append(n)\n",
    "print(minus_list)"
   ]
  },
  {
   "cell_type": "code",
   "execution_count": 20,
   "id": "5fc2301b",
   "metadata": {},
   "outputs": [
    {
     "name": "stdout",
     "output_type": "stream",
     "text": [
      "even_list =  [2, 4, 6, 8, 10]\n",
      "odd_list =  [1, 3, 5, 7, 9]\n"
     ]
    }
   ],
   "source": [
    "n_list = [1,2,3,4,5,6,7,8,9,10]\n",
    "even_list=[]\n",
    "for n in filter(lambda x: x%2 ==0 , n_list):\n",
    "    even_list.append(n)\n",
    "print(\"even_list = \",even_list)\n",
    "even_list = []\n",
    "for n in filter(lambda x: x%2 ==1 , n_list):\n",
    "    even_list.append(n)\n",
    "print(\"odd_list = \",even_list)"
   ]
  },
  {
   "cell_type": "code",
   "execution_count": 27,
   "id": "00de98e2",
   "metadata": {},
   "outputs": [
    {
     "name": "stdout",
     "output_type": "stream",
     "text": [
      "['A', 'B', 'C', 'D']\n",
      "A\n"
     ]
    }
   ],
   "source": [
    "a_list = ['a','b','c','d']\n",
    "upper_a_list = list(map(lambda x: chr(ord(x)-32),a_list))\n",
    "print(upper_a_list)\n",
    "print('a'.upper())"
   ]
  },
  {
   "cell_type": "code",
   "execution_count": 41,
   "id": "e11c98dd",
   "metadata": {},
   "outputs": [
    {
     "name": "stdout",
     "output_type": "stream",
     "text": [
      "입력 값의 두배 :  [20, 40, 60]\n",
      "입력 값의 세배 :  [30, 60, 90]\n"
     ]
    }
   ],
   "source": [
    "a = [10,20,30]\n",
    "def double (a):\n",
    "    print(\"입력 값의 두배 : \",list(map(lambda x : x*2,a)))\n",
    "def triple (a) :\n",
    "    print(\"입력 값의 세배 : \",list(map(lambda x : x*3,a)))\n",
    "double(a)\n",
    "triple(a)"
   ]
  },
  {
   "cell_type": "code",
   "execution_count": 42,
   "id": "0b0beae1",
   "metadata": {},
   "outputs": [
    {
     "name": "stdout",
     "output_type": "stream",
     "text": [
      "10\n"
     ]
    }
   ],
   "source": [
    "from functools import reduce\n",
    "\n",
    "a= [1,2,3,4]\n",
    "n = reduce(lambda x,y :x+y,a)\n",
    "print(n)"
   ]
  },
  {
   "cell_type": "code",
   "execution_count": 49,
   "id": "e678ad2e",
   "metadata": {},
   "outputs": [
    {
     "name": "stdout",
     "output_type": "stream",
     "text": [
      "1에서 100까지의 합 : 5050\n",
      "10! = 3628800\n"
     ]
    }
   ],
   "source": [
    "a = list(range(1,101))\n",
    "print(\"1에서 100까지의 합 : {}\".format(reduce(lambda x,y:x+y,a)))\n",
    "a= list(range(1,11))\n",
    "print(\"10! = {}\".format(reduce(lambda x,y : x*y, a)))"
   ]
  },
  {
   "cell_type": "code",
   "execution_count": 50,
   "id": "773d7bff",
   "metadata": {},
   "outputs": [
    {
     "name": "stdout",
     "output_type": "stream",
     "text": [
      "['H', 'E', 'L', 'L', 'O', ' ', 'W', 'O', 'R', 'L', 'D']\n"
     ]
    }
   ],
   "source": [
    "st = \"Hello World\"\n",
    "s_list = [x.upper() for x in st]\n",
    "print(s_list)"
   ]
  },
  {
   "cell_type": "code",
   "execution_count": 63,
   "id": "c9c5f588",
   "metadata": {},
   "outputs": [
    {
     "name": "stdout",
     "output_type": "stream",
     "text": [
      "cubic = [1, 8, 27, 64, 125, 216, 343, 512, 729, 1000]\n",
      "first_a = ['w', 't', 't', 'p', 'w']\n"
     ]
    }
   ],
   "source": [
    "print(\"cubic = {}\".format([x**3 for x in range(1,11)]))\n",
    "a= ['welcome','to','the','python','world']\n",
    "print(\"first_a = {}\".format([x[0] for x in a]))"
   ]
  },
  {
   "cell_type": "code",
   "execution_count": 66,
   "id": "84e7f419",
   "metadata": {},
   "outputs": [
    {
     "name": "stdout",
     "output_type": "stream",
     "text": [
      "성년 리스트:  [34, 39, 20, 54]\n",
      "[-20, -30, -50]\n"
     ]
    }
   ],
   "source": [
    "ages = [34,39,20,18,13,54,-20,-30,-50]\n",
    "print(\"성년 리스트: \", [x for x in ages if x>=19])\n",
    "minus_list = list(filter(lambda x : x<0,ages))\n",
    "print (minus_list)"
   ]
  },
  {
   "cell_type": "code",
   "execution_count": 70,
   "id": "ce23d0e4",
   "metadata": {},
   "outputs": [
    {
     "name": "stdout",
     "output_type": "stream",
     "text": [
      "cublic = [1, 8, 27, 64, 125, 216, 343]\n",
      "['1', '2', '3', '4']\n"
     ]
    }
   ],
   "source": [
    "print(\"cublic = {}\".format([x**3 for x in range(1,11) if x**3<=500]))\n",
    "st = \" Hello 1234 Python\"\n",
    "print([x for x in st if x.isdigit()==True])"
   ]
  },
  {
   "cell_type": "code",
   "execution_count": 77,
   "id": "4e0edd83",
   "metadata": {},
   "outputs": [
    {
     "name": "stdout",
     "output_type": "stream",
     "text": [
      "12\n",
      "20\n",
      "39\n"
     ]
    },
    {
     "ename": "StopIteration",
     "evalue": "",
     "output_type": "error",
     "traceback": [
      "\u001b[1;31m---------------------------------------------------------------------------\u001b[0m",
      "\u001b[1;31mStopIteration\u001b[0m                             Traceback (most recent call last)",
      "Input \u001b[1;32mIn [77]\u001b[0m, in \u001b[0;36m<cell line: 5>\u001b[1;34m()\u001b[0m\n\u001b[0;32m      3\u001b[0m \u001b[38;5;28;01mfor\u001b[39;00m x \u001b[38;5;129;01min\u001b[39;00m liter:\n\u001b[0;32m      4\u001b[0m     \u001b[38;5;28mprint\u001b[39m(x)\n\u001b[1;32m----> 5\u001b[0m \u001b[38;5;28;43mnext\u001b[39;49m\u001b[43m(\u001b[49m\u001b[43mliter\u001b[49m\u001b[43m)\u001b[49m\n\u001b[0;32m      6\u001b[0m \u001b[38;5;28mnext\u001b[39m(liter)\n\u001b[0;32m      7\u001b[0m \u001b[38;5;28mnext\u001b[39m(liter)\n",
      "\u001b[1;31mStopIteration\u001b[0m: "
     ]
    }
   ],
   "source": [
    "lst= [12,20,39]\n",
    "liter = iter(lst)\n",
    "for x in liter:\n",
    "    print(x)\n",
    "next(liter)\n",
    "next(liter)\n",
    "next(liter)\n",
    "print(next(liter))\n",
    "if StopIteration == next(liter):\n",
    "    print(\"all good\")"
   ]
  },
  {
   "cell_type": "code",
   "execution_count": 80,
   "id": "98c00f88",
   "metadata": {},
   "outputs": [
    {
     "name": "stdout",
     "output_type": "stream",
     "text": [
      "iter 생성\n",
      "next 실행\n",
      "1next 실행\n",
      "3next 실행\n",
      "5next 실행\n",
      "7next 실행\n",
      "9next 실행\n",
      "11next 실행\n",
      "13next 실행\n",
      "15next 실행\n",
      "17next 실행\n",
      "19next 실행\n"
     ]
    }
   ],
   "source": [
    "class OddCounter:\n",
    "    def __init__(self,n=1):\n",
    "        self.n = n\n",
    "    def __iter__(self):\n",
    "        print(\"iter 생성\")\n",
    "        return self\n",
    "    def __next__(self):\n",
    "        print(\"next 실행\")\n",
    "        t= self.n\n",
    "        self.n+=2\n",
    "        return t\n",
    "    \n",
    "my_counter = OddCounter()\n",
    "for x in my_counter:\n",
    "    if x >20:\n",
    "        break\n",
    "    print(x, end = '')"
   ]
  },
  {
   "cell_type": "code",
   "execution_count": 85,
   "id": "8d870dab",
   "metadata": {},
   "outputs": [
    {
     "name": "stdout",
     "output_type": "stream",
     "text": [
      "0 2 4 6 8 12 14 16 18 20 "
     ]
    }
   ],
   "source": [
    "class my_even:\n",
    "    def __init__(self,n=0):\n",
    "        self.n = n\n",
    "    def __iter__(self):\n",
    "        return self\n",
    "    def __next__(self):\n",
    "        \n",
    "        t = self.n\n",
    "        self.n +=2\n",
    "        return t\n",
    "a = my_even()\n",
    "for x in a :\n",
    "    if(x>=10):\n",
    "        break\n",
    "    print(x, end=' ')\n",
    "for x in a :\n",
    "    if(x>=21):\n",
    "        break\n",
    "    print(x, end=' ')"
   ]
  },
  {
   "cell_type": "code",
   "execution_count": null,
   "id": "3c177dfc",
   "metadata": {},
   "outputs": [],
   "source": []
  },
  {
   "cell_type": "code",
   "execution_count": 88,
   "id": "a366668a",
   "metadata": {},
   "outputs": [
    {
     "name": "stdout",
     "output_type": "stream",
     "text": [
      "['Welcome', 'to', 'Busan', 'Metropolitan', 'City']\n",
      "['Hello', 'My name is DongMin', 'Good to see you again']\n",
      "['Apple', 'Banana', 'Melon', 'Orange']\n"
     ]
    }
   ],
   "source": [
    "txt = 'Welcome to Busan Metropolitan City'\n",
    "print(txt.split())\n",
    "greet = \"Hello,My name is DongMin,Good to see you again\"\n",
    "print(greet.split(','))\n",
    "fruits = 'Apple|Banana|Melon|Orange'\n",
    "print(fruits.split('|'))"
   ]
  },
  {
   "cell_type": "code",
   "execution_count": null,
   "id": "86141af0",
   "metadata": {},
   "outputs": [],
   "source": []
  }
 ],
 "metadata": {
  "kernelspec": {
   "display_name": "Python 3 (ipykernel)",
   "language": "python",
   "name": "python3"
  },
  "language_info": {
   "codemirror_mode": {
    "name": "ipython",
    "version": 3
   },
   "file_extension": ".py",
   "mimetype": "text/x-python",
   "name": "python",
   "nbconvert_exporter": "python",
   "pygments_lexer": "ipython3",
   "version": "3.9.12"
  }
 },
 "nbformat": 4,
 "nbformat_minor": 5
}
