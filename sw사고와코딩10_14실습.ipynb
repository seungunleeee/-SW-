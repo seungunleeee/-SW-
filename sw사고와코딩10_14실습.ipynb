{
 "cells": [
  {
   "cell_type": "code",
   "execution_count": 7,
   "id": "2afedd82",
   "metadata": {},
   "outputs": [
    {
     "name": "stdout",
     "output_type": "stream",
     "text": [
      "['2022-10-19', '08:20:29.939834']\n",
      "2022 10 19\n",
      "08 20 29\n",
      "오늘의 날짜 : 2022년 10월 19일\n",
      "현재시간 : 오전: 08시 20분 29초\n"
     ]
    }
   ],
   "source": [
    "from datetime import datetime\n",
    "\n",
    "start_time =datetime.now()\n",
    "start_time.replace(month=12,day=25)\n",
    "# print(start_time)\n",
    "\n",
    "\n",
    "\n",
    "temp = str(start_time)\n",
    "\n",
    "date=temp.split(\" \",1)\n",
    "print(date)\n",
    "\n",
    "year,month,day = date[0].split(\"-\",2)\n",
    "hour,minute,second=date[1].split(\":\")\n",
    "second = float(second)\n",
    "second = int(second)\n",
    "print(year,month,day)\n",
    "print(hour,minute,second)\n",
    "isnoon=\"오전\"\n",
    "if int(hour)>12:\n",
    "    isnoon=\"오후\"\n",
    "    hour=int(hour)-12\n",
    "\n",
    "print(\"오늘의 날짜 : {}년 {}월 {}일\".format(year,month,day))\n",
    "print(\"현재시간 : {}: {}시 {}분 {}초\".format(isnoon,hour,minute,second))"
   ]
  },
  {
   "cell_type": "code",
   "execution_count": 33,
   "id": "9e36afdb",
   "metadata": {},
   "outputs": [
    {
     "name": "stdout",
     "output_type": "stream",
     "text": [
      "오늘은 2022년 10월 13일입니다.\n",
      "다음 크리스마스 까지는 72일 시간 남았습니다.\n"
     ]
    }
   ],
   "source": [
    "import datetime as dt\n",
    "today =dt.date.today()\n",
    "print('오늘은 {}년 {}월 {}일입니다.'.format(today.year,today.month,today.day))\n",
    "xmas = dt.datetime(2022,12,25)\n",
    "time_gap=xmas-dt.datetime.now()\n",
    "print(\"다음 크리스마스 까지는 {}일 시간 남았습니다.\".format(time_gap.days))"
   ]
  },
  {
   "cell_type": "code",
   "execution_count": 52,
   "id": "da09c617",
   "metadata": {},
   "outputs": [
    {
     "name": "stdout",
     "output_type": "stream",
     "text": [
      "오늘은 2022년 10월 13일입니다\n",
      "2025년 크리스마스 까지는 1168일 8시간 남았습니다.\n",
      "오늘은 2022년 10월 13일입니다.\n",
      "2036년 새해 까지는 5068일 8시간 남았습니다.\n",
      "오늘은 2022년 10월 13일입니다.\n",
      "2022년 생일 까지는 315일 8시간 남았습니다.\n"
     ]
    }
   ],
   "source": [
    "import datetime as dt\n",
    "date = dt.datetime.now()\n",
    "temp=dt.datetime(2025,12,25)\n",
    "result = temp-date\n",
    "\n",
    "print(\"오늘은 {}년 {}월 {}일입니다\".format(date.year,date.month,date.day))\n",
    "# hour = result.days*60*60-\n",
    "print(\"2025년 크리스마스 까지는 {}일 {}시간 남았습니다.\".format(result.days,int(result.seconds/3600)))\n",
    "\n",
    "temp1=dt.datetime(2036,8,29)\n",
    "\n",
    "reslt2 = temp1-date\n",
    "\n",
    "print(\"오늘은 {}년 {}월 {}일입니다.\".format(date.year,date.month,date.day))\n",
    "print(\"2036년 새해 까지는 {}일 {}시간 남았습니다.\".format(reslt2.days,reslt2.seconds//3600))\n",
    "temp1=dt.datetime(2023,8,25)\n",
    "reslt3 = temp1-date\n",
    "\n",
    "print(\"오늘은 {}년 {}월 {}일입니다.\".format(date.year,date.month,date.day))\n",
    "print(\"2022년 생일 까지는 {}일 {}시간 남았습니다.\".format(reslt3.days,reslt3.seconds//3600))"
   ]
  },
  {
   "cell_type": "code",
   "execution_count": 13,
   "id": "65cb4ca9",
   "metadata": {},
   "outputs": [
    {
     "ename": "TypeError",
     "evalue": "unsupported type for timedelta days component: datetime.datetime",
     "output_type": "error",
     "traceback": [
      "\u001b[1;31m---------------------------------------------------------------------------\u001b[0m",
      "\u001b[1;31mTypeError\u001b[0m                                 Traceback (most recent call last)",
      "Input \u001b[1;32mIn [13]\u001b[0m, in \u001b[0;36m<cell line: 4>\u001b[1;34m()\u001b[0m\n\u001b[0;32m      2\u001b[0m hundred \u001b[38;5;241m=\u001b[39m dt\u001b[38;5;241m.\u001b[39mtimedelta(days\u001b[38;5;241m=\u001b[39m\u001b[38;5;241m100\u001b[39m)\n\u001b[0;32m      3\u001b[0m plus100day \u001b[38;5;241m=\u001b[39m dt\u001b[38;5;241m.\u001b[39mdatetime\u001b[38;5;241m.\u001b[39mnow()\u001b[38;5;241m+\u001b[39mhundred\n\u001b[1;32m----> 4\u001b[0m \u001b[38;5;28mprint\u001b[39m(\u001b[43mdt\u001b[49m\u001b[38;5;241;43m.\u001b[39;49m\u001b[43mtimedelta\u001b[49m\u001b[43m(\u001b[49m\u001b[43mplus100day\u001b[49m\u001b[43m)\u001b[49m\u001b[38;5;241m.\u001b[39mhours)\n",
      "\u001b[1;31mTypeError\u001b[0m: unsupported type for timedelta days component: datetime.datetime"
     ]
    }
   ],
   "source": [
    "import datetime as dt\n",
    "hundred = dt.timedelta(days=100)\n",
    "plus100day = dt.datetime.now()+hundred\n",
    "print(dt.timedelta(plus100day).hours)"
   ]
  },
  {
   "cell_type": "code",
   "execution_count": 66,
   "id": "93981edc",
   "metadata": {},
   "outputs": [
    {
     "name": "stdout",
     "output_type": "stream",
     "text": [
      "9\n",
      "2022 10 23\n",
      "2022 10 23\n",
      "100일 기념일은 : 2023년 1월 31일입니다.\n"
     ]
    }
   ],
   "source": [
    "import datetime as dt\n",
    "date = dt.datetime.now()\n",
    "temp = dt.timedelta(days=1000)\n",
    "rslt=date+temp\n",
    "print(rslt.day)\n",
    "\n",
    "\n",
    "year,month,day =input().split(' ')\n",
    "print(year,month,day)\n",
    "temp=dt.datetime(int(year),int(month),int(day))\n",
    "temp1=dt.timedelta(days=100)\n",
    "rslt=temp+temp1\n",
    "print(\"100일 기념일은 : {}년 {}월 {}일입니다.\".format(rslt.year , rslt.month, rslt.day))"
   ]
  },
  {
   "cell_type": "code",
   "execution_count": 67,
   "id": "defee265",
   "metadata": {},
   "outputs": [
    {
     "name": "stdout",
     "output_type": "stream",
     "text": [
      "2022-10-13 15:27:56\n"
     ]
    }
   ],
   "source": [
    "import time\n",
    "unix_timestamp = time.time()\n",
    "local_time = time.localtime(unix_timestamp)\n",
    "print(time.strftime('%Y-%m-%d %H:%M:%S', local_time))"
   ]
  },
  {
   "cell_type": "code",
   "execution_count": 68,
   "id": "ded38da7",
   "metadata": {},
   "outputs": [
    {
     "data": {
      "text/plain": [
       "['__doc__',\n",
       " '__loader__',\n",
       " '__name__',\n",
       " '__package__',\n",
       " '__spec__',\n",
       " 'acos',\n",
       " 'acosh',\n",
       " 'asin',\n",
       " 'asinh',\n",
       " 'atan',\n",
       " 'atan2',\n",
       " 'atanh',\n",
       " 'ceil',\n",
       " 'comb',\n",
       " 'copysign',\n",
       " 'cos',\n",
       " 'cosh',\n",
       " 'degrees',\n",
       " 'dist',\n",
       " 'e',\n",
       " 'erf',\n",
       " 'erfc',\n",
       " 'exp',\n",
       " 'expm1',\n",
       " 'fabs',\n",
       " 'factorial',\n",
       " 'floor',\n",
       " 'fmod',\n",
       " 'frexp',\n",
       " 'fsum',\n",
       " 'gamma',\n",
       " 'gcd',\n",
       " 'hypot',\n",
       " 'inf',\n",
       " 'isclose',\n",
       " 'isfinite',\n",
       " 'isinf',\n",
       " 'isnan',\n",
       " 'isqrt',\n",
       " 'lcm',\n",
       " 'ldexp',\n",
       " 'lgamma',\n",
       " 'log',\n",
       " 'log10',\n",
       " 'log1p',\n",
       " 'log2',\n",
       " 'modf',\n",
       " 'nan',\n",
       " 'nextafter',\n",
       " 'perm',\n",
       " 'pi',\n",
       " 'pow',\n",
       " 'prod',\n",
       " 'radians',\n",
       " 'remainder',\n",
       " 'sin',\n",
       " 'sinh',\n",
       " 'sqrt',\n",
       " 'tan',\n",
       " 'tanh',\n",
       " 'tau',\n",
       " 'trunc',\n",
       " 'ulp']"
      ]
     },
     "execution_count": 68,
     "metadata": {},
     "output_type": "execute_result"
    }
   ],
   "source": [
    "import math \n",
    "dir(math)\n"
   ]
  },
  {
   "cell_type": "code",
   "execution_count": 70,
   "id": "f0d4620c",
   "metadata": {},
   "outputs": [
    {
     "name": "stdout",
     "output_type": "stream",
     "text": [
      "4**2=16.0\n",
      "4**3=64.0\n",
      "4**4=256.0\n",
      "4**5=1024.0\n",
      "4**6=4096.0\n",
      "4**7=16384.0\n",
      "4**8=65536.0\n",
      "4**9=262144.0\n",
      "4**10=1048576.0\n"
     ]
    }
   ],
   "source": [
    " import math as m\n",
    "\n",
    "for  i in range(2,11):\n",
    "    print(\"4**{}={}\".format(i,m.pow(4,i)))"
   ]
  },
  {
   "cell_type": "code",
   "execution_count": 76,
   "id": "83392e5f",
   "metadata": {},
   "outputs": [
    {
     "name": "stdout",
     "output_type": "stream",
     "text": [
      "0 degree = 0.0radian\n",
      "10 degree = 0.17453292519943295radian\n",
      "20 degree = 0.3490658503988659radian\n",
      "30 degree = 0.5235987755982988radian\n",
      "40 degree = 0.6981317007977318radian\n",
      "50 degree = 0.8726646259971648radian\n",
      "60 degree = 1.0471975511965976radian\n",
      "70 degree = 1.2217304763960306radian\n",
      "80 degree = 1.3962634015954636radian\n",
      "90 degree = 1.5707963267948966radian\n",
      "100 degree = 1.7453292519943295radian\n",
      "110 degree = 1.9198621771937625radian\n",
      "120 degree = 2.0943951023931953radian\n",
      "130 degree = 2.2689280275926285radian\n",
      "140 degree = 2.443460952792061radian\n",
      "150 degree = 2.6179938779914944radian\n",
      "160 degree = 2.792526803190927radian\n",
      "170 degree = 2.9670597283903604radian\n",
      "180 degree = 3.141592653589793radian\n",
      "sin( 0) = 0.00\n",
      "sin(10)  = 0.3090169943749474\n",
      "sin(20)  = 0.15643446504023087\n",
      "sin(30)  = 0.10452846326765346\n",
      "sin(40)  = 0.07845909572784494\n",
      "sin(50)  = 0.06279051952931337\n",
      "sin(60)  = 0.05233595624294383\n",
      "sin(70)  = 0.044864830350514924\n",
      "sin(80)  = 0.03925981575906861\n",
      "sin(90)  = 0.03489949670250097\n",
      "sin(100)  = 0.03141075907812829\n",
      "sin(110)  = 0.02855605079369625\n",
      "sin(120)  = 0.02617694830787315\n",
      "sin(130)  = 0.024163745236132288\n",
      "sin(140)  = 0.022438064295804937\n",
      "sin(150)  = 0.020942419883356957\n",
      "sin(160)  = 0.0196336924606283\n",
      "sin(170)  = 0.018478904959129905\n",
      "sin(180)  = 0.01745240643728351\n"
     ]
    }
   ],
   "source": [
    " import math as m\n",
    "for i in range(0,190,10):\n",
    "    print(\"{} degree = {}radian\".format(i,m.radians(i)))\n",
    "for i in range(0,190,10):\n",
    "    if i==0:\n",
    "        print(\"sin( 0) = 0.00\")\n",
    "        continue\n",
    "    print(\"sin({})  = {}\".format(i,m.sin(m.pi/i)))"
   ]
  },
  {
   "cell_type": "code",
   "execution_count": 91,
   "id": "4d02500b",
   "metadata": {},
   "outputs": [
    {
     "name": "stdout",
     "output_type": "stream",
     "text": [
      "[0, 45, 20]\n",
      "10 9 1\n"
     ]
    }
   ],
   "source": [
    "import random as rd\n",
    "temp=[]\n",
    "for i in range(1,4):\n",
    "    temp.append(rd.randrange(0,101,5))\n",
    "\n",
    "\n",
    "print(temp)\n",
    "list1 = list(range(1,11))\n",
    "r1,r2,r3=rd.sample(list1,3)\n",
    "print(r1,r2,r3)"
   ]
  },
  {
   "cell_type": "code",
   "execution_count": 97,
   "id": "662b9c94",
   "metadata": {},
   "outputs": [
    {
     "name": "stdout",
     "output_type": "stream",
     "text": [
      "829870797\n",
      "1933386042\n"
     ]
    }
   ],
   "source": [
    "def pseudo_rand(x):\n",
    "    a = 1103515245\n",
    "    b = 12345\n",
    "    m = 2 ** 31\n",
    "    new_x = (a * x + b) % m\n",
    "    return new_x\n",
    "x = pseudo_rand(100)\n",
    "print(x)\n",
    "x = pseudo_rand(101)\n",
    "print(x)"
   ]
  },
  {
   "cell_type": "code",
   "execution_count": 98,
   "id": "213ed72d",
   "metadata": {},
   "outputs": [
    {
     "ename": "Terminator",
     "evalue": "",
     "output_type": "error",
     "traceback": [
      "\u001b[1;31m---------------------------------------------------------------------------\u001b[0m",
      "\u001b[1;31mTerminator\u001b[0m                                Traceback (most recent call last)",
      "Input \u001b[1;32mIn [98]\u001b[0m, in \u001b[0;36m<cell line: 3>\u001b[1;34m()\u001b[0m\n\u001b[0;32m      3\u001b[0m \u001b[38;5;28;01mfor\u001b[39;00m i \u001b[38;5;129;01min\u001b[39;00m \u001b[38;5;28mrange\u001b[39m(\u001b[38;5;241m200\u001b[39m):\n\u001b[0;32m      4\u001b[0m     t\u001b[38;5;241m.\u001b[39mforward(i)\n\u001b[1;32m----> 5\u001b[0m     \u001b[43mt\u001b[49m\u001b[38;5;241;43m.\u001b[39;49m\u001b[43mleft\u001b[49m\u001b[43m(\u001b[49m\u001b[38;5;241;43m93\u001b[39;49m\u001b[43m)\u001b[49m\n\u001b[0;32m      6\u001b[0m t\u001b[38;5;241m.\u001b[39mdone()\n",
      "File \u001b[1;32m<string>:8\u001b[0m, in \u001b[0;36mleft\u001b[1;34m(angle)\u001b[0m\n",
      "File \u001b[1;32m~\\anaconda3\\lib\\turtle.py:1700\u001b[0m, in \u001b[0;36mTNavigator.left\u001b[1;34m(self, angle)\u001b[0m\n\u001b[0;32m   1681\u001b[0m \u001b[38;5;28;01mdef\u001b[39;00m \u001b[38;5;21mleft\u001b[39m(\u001b[38;5;28mself\u001b[39m, angle):\n\u001b[0;32m   1682\u001b[0m     \u001b[38;5;124;03m\"\"\"Turn turtle left by angle units.\u001b[39;00m\n\u001b[0;32m   1683\u001b[0m \n\u001b[0;32m   1684\u001b[0m \u001b[38;5;124;03m    Aliases: left | lt\u001b[39;00m\n\u001b[1;32m   (...)\u001b[0m\n\u001b[0;32m   1698\u001b[0m \u001b[38;5;124;03m    67.0\u001b[39;00m\n\u001b[0;32m   1699\u001b[0m \u001b[38;5;124;03m    \"\"\"\u001b[39;00m\n\u001b[1;32m-> 1700\u001b[0m     \u001b[38;5;28;43mself\u001b[39;49m\u001b[38;5;241;43m.\u001b[39;49m\u001b[43m_rotate\u001b[49m\u001b[43m(\u001b[49m\u001b[43mangle\u001b[49m\u001b[43m)\u001b[49m\n",
      "File \u001b[1;32m~\\anaconda3\\lib\\turtle.py:3278\u001b[0m, in \u001b[0;36mRawTurtle._rotate\u001b[1;34m(self, angle)\u001b[0m\n\u001b[0;32m   3276\u001b[0m     \u001b[38;5;28;01mfor\u001b[39;00m _ \u001b[38;5;129;01min\u001b[39;00m \u001b[38;5;28mrange\u001b[39m(steps):\n\u001b[0;32m   3277\u001b[0m         \u001b[38;5;28mself\u001b[39m\u001b[38;5;241m.\u001b[39m_orient \u001b[38;5;241m=\u001b[39m \u001b[38;5;28mself\u001b[39m\u001b[38;5;241m.\u001b[39m_orient\u001b[38;5;241m.\u001b[39mrotate(delta)\n\u001b[1;32m-> 3278\u001b[0m         \u001b[38;5;28;43mself\u001b[39;49m\u001b[38;5;241;43m.\u001b[39;49m\u001b[43m_update\u001b[49m\u001b[43m(\u001b[49m\u001b[43m)\u001b[49m\n\u001b[0;32m   3279\u001b[0m \u001b[38;5;28mself\u001b[39m\u001b[38;5;241m.\u001b[39m_orient \u001b[38;5;241m=\u001b[39m neworient\n\u001b[0;32m   3280\u001b[0m \u001b[38;5;28mself\u001b[39m\u001b[38;5;241m.\u001b[39m_update()\n",
      "File \u001b[1;32m~\\anaconda3\\lib\\turtle.py:2661\u001b[0m, in \u001b[0;36mRawTurtle._update\u001b[1;34m(self)\u001b[0m\n\u001b[0;32m   2659\u001b[0m     \u001b[38;5;28;01mreturn\u001b[39;00m\n\u001b[0;32m   2660\u001b[0m \u001b[38;5;28;01melif\u001b[39;00m screen\u001b[38;5;241m.\u001b[39m_tracing \u001b[38;5;241m==\u001b[39m \u001b[38;5;241m1\u001b[39m:\n\u001b[1;32m-> 2661\u001b[0m     \u001b[38;5;28;43mself\u001b[39;49m\u001b[38;5;241;43m.\u001b[39;49m\u001b[43m_update_data\u001b[49m\u001b[43m(\u001b[49m\u001b[43m)\u001b[49m\n\u001b[0;32m   2662\u001b[0m     \u001b[38;5;28mself\u001b[39m\u001b[38;5;241m.\u001b[39m_drawturtle()\n\u001b[0;32m   2663\u001b[0m     screen\u001b[38;5;241m.\u001b[39m_update()                  \u001b[38;5;66;03m# TurtleScreenBase\u001b[39;00m\n",
      "File \u001b[1;32m~\\anaconda3\\lib\\turtle.py:2647\u001b[0m, in \u001b[0;36mRawTurtle._update_data\u001b[1;34m(self)\u001b[0m\n\u001b[0;32m   2646\u001b[0m \u001b[38;5;28;01mdef\u001b[39;00m \u001b[38;5;21m_update_data\u001b[39m(\u001b[38;5;28mself\u001b[39m):\n\u001b[1;32m-> 2647\u001b[0m     \u001b[38;5;28;43mself\u001b[39;49m\u001b[38;5;241;43m.\u001b[39;49m\u001b[43mscreen\u001b[49m\u001b[38;5;241;43m.\u001b[39;49m\u001b[43m_incrementudc\u001b[49m\u001b[43m(\u001b[49m\u001b[43m)\u001b[49m\n\u001b[0;32m   2648\u001b[0m     \u001b[38;5;28;01mif\u001b[39;00m \u001b[38;5;28mself\u001b[39m\u001b[38;5;241m.\u001b[39mscreen\u001b[38;5;241m.\u001b[39m_updatecounter \u001b[38;5;241m!=\u001b[39m \u001b[38;5;241m0\u001b[39m:\n\u001b[0;32m   2649\u001b[0m         \u001b[38;5;28;01mreturn\u001b[39;00m\n",
      "File \u001b[1;32m~\\anaconda3\\lib\\turtle.py:1293\u001b[0m, in \u001b[0;36mTurtleScreen._incrementudc\u001b[1;34m(self)\u001b[0m\n\u001b[0;32m   1291\u001b[0m \u001b[38;5;28;01mif\u001b[39;00m \u001b[38;5;129;01mnot\u001b[39;00m TurtleScreen\u001b[38;5;241m.\u001b[39m_RUNNING:\n\u001b[0;32m   1292\u001b[0m     TurtleScreen\u001b[38;5;241m.\u001b[39m_RUNNING \u001b[38;5;241m=\u001b[39m \u001b[38;5;28;01mTrue\u001b[39;00m\n\u001b[1;32m-> 1293\u001b[0m     \u001b[38;5;28;01mraise\u001b[39;00m Terminator\n\u001b[0;32m   1294\u001b[0m \u001b[38;5;28;01mif\u001b[39;00m \u001b[38;5;28mself\u001b[39m\u001b[38;5;241m.\u001b[39m_tracing \u001b[38;5;241m>\u001b[39m \u001b[38;5;241m0\u001b[39m:\n\u001b[0;32m   1295\u001b[0m     \u001b[38;5;28mself\u001b[39m\u001b[38;5;241m.\u001b[39m_updatecounter \u001b[38;5;241m+\u001b[39m\u001b[38;5;241m=\u001b[39m \u001b[38;5;241m1\u001b[39m\n",
      "\u001b[1;31mTerminator\u001b[0m: "
     ]
    }
   ],
   "source": [
    "import turtle as t\n",
    "t.setup(width = 400, height = 400)\n",
    "for i in range(200):\n",
    "    t.forward(i)\n",
    "    t.left(93)\n",
    "t.done()"
   ]
  },
  {
   "cell_type": "code",
   "execution_count": 107,
   "id": "4fce854a",
   "metadata": {},
   "outputs": [
    {
     "name": "stdout",
     "output_type": "stream",
     "text": [
      "a 승리!\n"
     ]
    }
   ],
   "source": [
    "import random as rd\n",
    "temp= list(range(1,7))\n",
    "\n",
    "while True:\n",
    "    a=rd.sample(temp,1)\n",
    "    b=rd.sample(temp,1)\n",
    "    if(a>b):\n",
    "        print(\"a 승리!\")\n",
    "        break\n",
    "    elif a<b:\n",
    "        print(\"b 승리!\")\n",
    "        break\n",
    "    else:\n",
    "        continue"
   ]
  },
  {
   "cell_type": "code",
   "execution_count": 110,
   "id": "42651c3d",
   "metadata": {},
   "outputs": [],
   "source": [
    "for _ in range(3): # 아래의 기능을 세 번 반복\n",
    "    t.forward(100) # 터틀을 헤딩 방향으로 100 픽셀 이동\n",
    "    t.left(120) # 터틀의 헤딩 방향을 왼쪽으로 120도 회전\n",
    "\n",
    "for _ in range(3):\n",
    "    t.forward(200)\n",
    "    t.left(120)\n",
    "t.done()"
   ]
  },
  {
   "cell_type": "code",
   "execution_count": 116,
   "id": "abfc9abc",
   "metadata": {},
   "outputs": [
    {
     "ename": "Terminator",
     "evalue": "",
     "output_type": "error",
     "traceback": [
      "\u001b[1;31m---------------------------------------------------------------------------\u001b[0m",
      "\u001b[1;31mTerminator\u001b[0m                                Traceback (most recent call last)",
      "Input \u001b[1;32mIn [116]\u001b[0m, in \u001b[0;36m<cell line: 8>\u001b[1;34m()\u001b[0m\n\u001b[0;32m      6\u001b[0m t\u001b[38;5;241m.\u001b[39mdone()\n\u001b[0;32m      8\u001b[0m \u001b[38;5;28;01mfor\u001b[39;00m _ \u001b[38;5;129;01min\u001b[39;00m \u001b[38;5;28mrange\u001b[39m(\u001b[38;5;241m4\u001b[39m):\n\u001b[1;32m----> 9\u001b[0m     \u001b[43mt\u001b[49m\u001b[38;5;241;43m.\u001b[39;49m\u001b[43mforward\u001b[49m\u001b[43m(\u001b[49m\u001b[38;5;241;43m100\u001b[39;49m\u001b[43m)\u001b[49m\n\u001b[0;32m     10\u001b[0m     t\u001b[38;5;241m.\u001b[39mleft(\u001b[38;5;241m90\u001b[39m)\n",
      "File \u001b[1;32m<string>:5\u001b[0m, in \u001b[0;36mforward\u001b[1;34m(distance)\u001b[0m\n",
      "\u001b[1;31mTerminator\u001b[0m: "
     ]
    }
   ],
   "source": [
    "import turtle as t\n",
    "for i in range(100,301,100):\n",
    "    for j in range(3):\n",
    "        t.forward(int(i))\n",
    "        t.left(120)\n",
    "\n",
    "\n"
   ]
  },
  {
   "cell_type": "code",
   "execution_count": 117,
   "id": "da7fba7c",
   "metadata": {},
   "outputs": [],
   "source": [
    "import turtle as t\n",
    "\n",
    "for _ in range(4):\n",
    "    t.forward(100)\n",
    "    t.left(90)\n",
    "t.done()"
   ]
  },
  {
   "cell_type": "code",
   "execution_count": 119,
   "id": "97f9340c",
   "metadata": {},
   "outputs": [
    {
     "name": "stdout",
     "output_type": "stream",
     "text": [
      "[13, 15, 23, 25, 26, 41]\n"
     ]
    }
   ],
   "source": [
    " import random as rd\n",
    "list1 = list(range(1,47))\n",
    "rd.shuffle(list1)\n",
    "lotto_list = rd.sample(list1,6)\n",
    "lotto_list.sort()\n",
    "print(lotto_list)"
   ]
  },
  {
   "cell_type": "code",
   "execution_count": 128,
   "id": "e9f95aee",
   "metadata": {},
   "outputs": [],
   "source": [
    "import turtle as t\n",
    "t.color('blue')\n",
    "t.begin_fill()\n",
    "for _ in range(4):\n",
    "    t.forward(100)\n",
    "    t.left(90)\n",
    "t.end_fill() \n",
    "t.setheading(90)\n",
    "t.color('red')\n",
    "t.begin_fill()\n",
    "for _ in range(4):\n",
    "    t.forward(100)\n",
    "    t.left(90)\n",
    "t.end_fill() \n",
    "# green\n",
    "\n",
    "t.color('green')\n",
    "t.setheading(270)\n",
    "t.begin_fill()\n",
    "for _ in range(4):\n",
    "    t.forward(100)\n",
    "    t.left(90)\n",
    "t.end_fill() \n",
    "\n",
    "#yellow\n",
    "t.color('yellow')\n",
    "t.setheading(180)\n",
    "t.begin_fill()\n",
    "for _ in range(4):\n",
    "    t.forward(100)\n",
    "    t.left(90)\n",
    "t.end_fill() \n",
    "t.done()"
   ]
  },
  {
   "cell_type": "code",
   "execution_count": null,
   "id": "2b2ae5de",
   "metadata": {},
   "outputs": [],
   "source": [
    "import turtle as t\n",
    "def draw_rect():\n",
    "    colors=['blue','red','yellow','green']\n",
    "    for i in range(0,4):\n",
    "        t.color(colors)\n",
    "        \n",
    "        \n",
    "        \n",
    "        \n",
    "        \n",
    "        \n",
    "        \n",
    "        t.color('blue')\n",
    "t.begin_fill()\n",
    "for _ in range(4):\n",
    "    t.forward(100)\n",
    "    t.left(90)\n",
    "t.end_fill() \n",
    "t.setheading(90)\n",
    "t.color('red')\n",
    "t.begin_fill()"
   ]
  },
  {
   "cell_type": "code",
   "execution_count": null,
   "id": "0d2825b8",
   "metadata": {},
   "outputs": [],
   "source": [
    "import datetime as dt\n",
    "date = dt.datetime.now()\n",
    "temp=dt.datetime(2025,12,25)\n",
    "result = temp-date\n",
    "\n",
    "print(\"오늘은 {}년 {}월 {}일입니다\".format(date.year,date.month,date.day))\n",
    "# hour = result.days*60*60-\n",
    "print(\"2025년 크리스마스 까지는 {}일 {}시간 남았습니다.\".format(result.days,int(result.seconds/3600)))\n",
    "\n",
    "temp1=dt.datetime(2036,8,29)\n",
    "\n",
    "reslt2 = temp1-date\n",
    "\n",
    "print(\"오늘은 {}년 {}월 {}일입니다.\".format(date.year,date.month,date.day))\n",
    "print(\"2036년 새해 까지는 {}일 {}시간 남았습니다.\".format(reslt2.days,reslt2.seconds//3600))\n",
    "temp1=dt.datetime(2023,8,25)\n",
    "reslt3 = temp1-date\n",
    "\n",
    "print(\"오늘은 {}년 {}월 {}일입니다.\".format(date.year,date.month,date.day))\n",
    "print(\"2022년 생일 까지는 {}일 {}시간 남았습니다.\".format(reslt3.days,reslt3.seconds//3600))"
   ]
  },
  {
   "cell_type": "code",
   "execution_count": 22,
   "id": "ffde3ccb",
   "metadata": {},
   "outputs": [
    {
     "name": "stdout",
     "output_type": "stream",
     "text": [
      "로미오의 주사위 숫자는 4입니다\n",
      "줄리엣의 주사위 숫자는 4입니다\n",
      "줄리엣이 이겼습니다\n"
     ]
    }
   ],
   "source": [
    "import random as rd\n",
    "input0 = rd.randrange(1,7)\n",
    "input1 = rd.randrange(1,7)\n",
    "print(\"로미오의 주사위 숫자는 {}입니다\".format(input0))\n",
    "print(\"줄리엣의 주사위 숫자는 {}입니다\".format(input1))\n",
    "if(input0>input1):\n",
    "    print(\"로미오가 이겼습니다\")\n",
    "else:\n",
    "     print(\"줄리엣이 이겼습니다\")\n",
    " "
   ]
  },
  {
   "cell_type": "code",
   "execution_count": 28,
   "id": "4245af99",
   "metadata": {},
   "outputs": [
    {
     "name": "stdout",
     "output_type": "stream",
     "text": [
      "1에서 20까지의 숫자를 입력하세요 : \n"
     ]
    },
    {
     "ename": "TypeError",
     "evalue": "'int' object is not callable",
     "output_type": "error",
     "traceback": [
      "\u001b[1;31m---------------------------------------------------------------------------\u001b[0m",
      "\u001b[1;31mTypeError\u001b[0m                                 Traceback (most recent call last)",
      "Input \u001b[1;32mIn [28]\u001b[0m, in \u001b[0;36m<cell line: 6>\u001b[1;34m()\u001b[0m\n\u001b[0;32m      5\u001b[0m \u001b[38;5;28;01mwhile\u001b[39;00m \u001b[38;5;28;01mTrue\u001b[39;00m:\n\u001b[0;32m      6\u001b[0m     \u001b[38;5;28mprint\u001b[39m(\u001b[38;5;124m\"\u001b[39m\u001b[38;5;124m1에서 20까지의 숫자를 입력하세요 : \u001b[39m\u001b[38;5;124m\"\u001b[39m)\n\u001b[1;32m----> 7\u001b[0m     temp\u001b[38;5;241m=\u001b[39m \u001b[38;5;28;43minput\u001b[39;49m\u001b[43m(\u001b[49m\u001b[43m)\u001b[49m\n\u001b[0;32m      8\u001b[0m     \u001b[38;5;28;01mif\u001b[39;00m(\u001b[38;5;28mint\u001b[39m(temp)\u001b[38;5;241m==\u001b[39minput1):\n\u001b[0;32m      9\u001b[0m         \u001b[38;5;28mprint\u001b[39m(\u001b[38;5;124m\"\u001b[39m\u001b[38;5;124m정답입니다 \u001b[39m\u001b[38;5;132;01m{}\u001b[39;00m\u001b[38;5;124m번만에 맞추셨네요\u001b[39m\u001b[38;5;124m\"\u001b[39m\u001b[38;5;241m.\u001b[39mformat(ct))\n",
      "\u001b[1;31mTypeError\u001b[0m: 'int' object is not callable"
     ]
    }
   ],
   "source": [
    "import random as rd\n",
    "input1 = rd.randrange(1,21)\n",
    "ct=0\n",
    "temp=0\n",
    "while True:\n",
    "    print(\"1에서 20까지의 숫자를 입력하세요 : \")\n",
    "    temp= input()\n",
    "    if(int(temp)==input1):\n",
    "        print(\"정답입니다 {}번만에 맞추셨네요\".format(ct))\n",
    "        break\n",
    "    elif int(temp)>input1:\n",
    "        print(\"{}보다 작습니다\")\n",
    "    else:\n",
    "        print(\"{}보다 큽니다\")\n",
    "    ct+=1"
   ]
  }
 ],
 "metadata": {
  "kernelspec": {
   "display_name": "Python 3 (ipykernel)",
   "language": "python",
   "name": "python3"
  },
  "language_info": {
   "codemirror_mode": {
    "name": "ipython",
    "version": 3
   },
   "file_extension": ".py",
   "mimetype": "text/x-python",
   "name": "python",
   "nbconvert_exporter": "python",
   "pygments_lexer": "ipython3",
   "version": "3.9.12"
  }
 },
 "nbformat": 4,
 "nbformat_minor": 5
}
