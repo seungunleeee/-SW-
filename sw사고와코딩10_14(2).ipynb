{
 "cells": [
  {
   "cell_type": "code",
   "execution_count": 4,
   "id": "c55c9620",
   "metadata": {},
   "outputs": [
    {
     "name": "stdout",
     "output_type": "stream",
     "text": [
      "1에서 20까지의 숫자를 입력하세요 : \n",
      "10\n",
      "10보다 작습니다\n",
      "1에서 20까지의 숫자를 입력하세요 : \n",
      "5\n",
      "5보다 작습니다\n",
      "1에서 20까지의 숫자를 입력하세요 : \n",
      "7\n",
      "7보다 작습니다\n",
      "1에서 20까지의 숫자를 입력하세요 : \n",
      "6\n",
      "6보다 작습니다\n",
      "1에서 20까지의 숫자를 입력하세요 : \n",
      "1\n",
      "1보다 큽니다\n",
      "1에서 20까지의 숫자를 입력하세요 : \n",
      "3\n",
      "3보다 작습니다\n",
      "1에서 20까지의 숫자를 입력하세요 : \n",
      "2\n",
      "정답입니다 6번만에 맞추셨네요\n"
     ]
    }
   ],
   "source": [
    "import random as rd\n",
    "input1 = rd.randrange(1,21)\n",
    "ct=0\n",
    "temp=0\n",
    "while True:\n",
    "    print(\"1에서 20까지의 숫자를 입력하세요 : \")\n",
    "    temp= input()\n",
    "    if(int(temp)==input1):\n",
    "        print(\"정답입니다 {}번만에 맞추셨네요\".format(ct))\n",
    "        break\n",
    "    elif int(temp)>input1:\n",
    "        print(\"{}보다 작습니다\".format(temp))\n",
    "    else:\n",
    "        print(\"{}보다 큽니다\".format(temp))\n",
    "    ct+=1"
   ]
  },
  {
   "cell_type": "code",
   "execution_count": null,
   "id": "e76cf072",
   "metadata": {},
   "outputs": [],
   "source": [
    "import datetime as dt\n",
    "date = dt.datetime.now()\n",
    "temp=dt.datetime(2025,12,25)\n",
    "result = temp-date\n",
    "\n",
    "print(\"오늘은 {}년 {}월 {}일입니다\".format(date.year,date.month,date.day))\n",
    "# hour = result.days*60*60-\n",
    "print(\"2025년 크리스마스 까지는 {}일 {}시간 남았습니다.\".format(result.days,int(result.seconds/3600)))\n",
    "\n",
    "temp1=dt.datetime(2036,8,29)\n",
    "\n",
    "reslt2 = temp1-date\n",
    "\n",
    "print(\"오늘은 {}년 {}월 {}일입니다.\".format(date.year,date.month,date.day))\n",
    "print(\"2036년 새해 까지는 {}일 {}시간 남았습니다.\".format(reslt2.days,reslt2.seconds//3600))\n",
    "temp1=dt.datetime(2023,8,25)\n",
    "reslt3 = temp1-date\n",
    "\n",
    "print(\"오늘은 {}년 {}월 {}일입니다.\".format(date.year,date.month,date.day))\n",
    "print(\"2022년 생일 까지는 {}일 {}시간 남았습니다.\".format(reslt3.days,reslt3.seconds//3600))"
   ]
  },
  {
   "cell_type": "code",
   "execution_count": 14,
   "id": "bb0a41d8",
   "metadata": {},
   "outputs": [
    {
     "name": "stdout",
     "output_type": "stream",
     "text": [
      "오늘은 2022년 10월 19일입니다\n",
      "춘향이와 몽룡이의 연애 시작일 2019년 2월 24일\n",
      "연애시작일로 경과한 날짜: 1333\n",
      "100일 기념일 : 2019년6월4일 \n",
      "200일 기념일 : 2019년9월12일 \n",
      "500일 기념일 : 2020년7월8일 \n",
      "1000일 기념일 : 2021년11월20일 \n"
     ]
    }
   ],
   "source": [
    "import datetime as dt\n",
    "date = dt.datetime.now()\n",
    "temp1 = dt.datetime(2019,2,24)\n",
    "result = date - temp1\n",
    "temp100 =temp1+dt.timedelta(days=100)\n",
    "temp200 =temp1+dt.timedelta(days=200)\n",
    "\n",
    "temp1000 =temp1+dt.timedelta(days=1000)\n",
    "temp500 =temp1+dt.timedelta(days=500)\n",
    "print(\"오늘은 {}년 {}월 {}일입니다\".format(date.year,date.month,date.day))\n",
    "print(\"춘향이와 몽룡이의 연애 시작일 {}년 {}월 {}일\".format(temp1.year,temp1.month,temp1.day))\n",
    "print(\"연애시작일로 경과한 날짜: {}\".format(result.days))\n",
    "print(\"100일 기념일 : {}년{}월{}일 \".format(temp100.year,temp100.month,temp100.day))\n",
    "print(\"200일 기념일 : {}년{}월{}일 \".format(temp200.year,temp200.month,temp200.day))\n",
    "print(\"500일 기념일 : {}년{}월{}일 \".format(temp500.year,temp500.month,temp500.day))\n",
    "print(\"1000일 기념일 : {}년{}월{}일 \".format(temp1000.year,temp1000.month,temp1000.day))"
   ]
  },
  {
   "cell_type": "code",
   "execution_count": 23,
   "id": "ee4e6587",
   "metadata": {},
   "outputs": [
    {
     "name": "stdout",
     "output_type": "stream",
     "text": [
      "1에서 1000,000까지의 합을 100번반복해서 구하는 시간:0.41336초\n"
     ]
    }
   ],
   "source": [
    "import time\n",
    "def sum1to1000000():\n",
    "    temp=0\n",
    "    for j in range(100000,10000001,100000):\n",
    "    \n",
    "        for i in range(j-100000,j+1):\n",
    "            temp+=i\n",
    "    \n",
    "\n",
    "\n",
    "start_time = time.time() \n",
    "sum1to1000000()\n",
    "end_time = time.time() \n",
    "gap = end_time-start_time\n",
    "print( \"1에서 1000,000까지의 합을 100번반복해서 구하는 시간:{:.5f}초\".format(gap))"
   ]
  },
  {
   "cell_type": "code",
   "execution_count": 30,
   "id": "d6fd37d2",
   "metadata": {},
   "outputs": [
    {
     "name": "stdout",
     "output_type": "stream",
     "text": [
      "1000!을 100번반복해서 구하는 시간0.00607300 sec\n"
     ]
    }
   ],
   "source": [
    "import math\n",
    "import time\n",
    "\n",
    "start = time.time()\n",
    "for i in range(1,101):\n",
    "    math.factorial(1000)\n",
    "end = time.time()\n",
    "\n",
    "print(f\"1000!을 100번반복해서 구하는 시간{end - start:.8f} sec\")"
   ]
  },
  {
   "cell_type": "code",
   "execution_count": 36,
   "id": "00aca864",
   "metadata": {},
   "outputs": [
    {
     "name": "stdout",
     "output_type": "stream",
     "text": [
      "1에서 1000까지의 홀수의 세제곱 더하기 결과:1249999975000000.0\n",
      "1에서 1000까지의 홀수의 세제곱 더하기 를 100번 반복하는 시간:0.41336\n"
     ]
    }
   ],
   "source": [
    " import math as m\n",
    "def uneven():\n",
    "    ret=0\n",
    "    for i in range(1,10001):\n",
    "        if(i%2==1):\n",
    "            ret+= m.pow(i,3)\n",
    "    return ret\n",
    "\n",
    "print(\"1에서 1000까지의 홀수의 세제곱 더하기 결과:{}\".format(uneven()))\n",
    "start = time.time()\n",
    "for i in range(1,101):\n",
    "    uneven()\n",
    "end = time.time()\n",
    "gap = end_time-start_time\n",
    "print(\"1에서 1000까지의 홀수의 세제곱 더하기 를 100번 반복하는 시간:{:.5f}\".format(gap))"
   ]
  },
  {
   "cell_type": "code",
   "execution_count": 40,
   "id": "97637d18",
   "metadata": {},
   "outputs": [
    {
     "name": "stdout",
     "output_type": "stream",
     "text": [
      "{1.0}\n",
      "1에서 360도 까지의 sin값의 더하기 결과:5.6739471402033955e-15\n",
      "1에서 360도 까지 sin값의 더하기  를 100번 반복하는 시간:0.41336\n"
     ]
    }
   ],
   "source": [
    " import math as m\n",
    "def singp():\n",
    "    ret=0\n",
    "    for i in range(1,361):\n",
    "        ret+=m.sin(m.radians(i))\n",
    "    return ret\n",
    "print({m.sin(m.radians(90))})\n",
    "print(\"1에서 360도 까지의 sin값의 더하기 결과:{}\".format(singp()))\n",
    "start = time.time()\n",
    "for i in range(1,101):\n",
    "    singp()\n",
    "end = time.time()\n",
    "gap = end_time-start_time\n",
    "print(\"1에서 360도 까지 sin값의 더하기  를 100번 반복하는 시간:{:.5f}\".format(gap))"
   ]
  },
  {
   "cell_type": "code",
   "execution_count": null,
   "id": "13732bac",
   "metadata": {},
   "outputs": [],
   "source": []
  }
 ],
 "metadata": {
  "kernelspec": {
   "display_name": "Python 3 (ipykernel)",
   "language": "python",
   "name": "python3"
  },
  "language_info": {
   "codemirror_mode": {
    "name": "ipython",
    "version": 3
   },
   "file_extension": ".py",
   "mimetype": "text/x-python",
   "name": "python",
   "nbconvert_exporter": "python",
   "pygments_lexer": "ipython3",
   "version": "3.9.12"
  }
 },
 "nbformat": 4,
 "nbformat_minor": 5
}
