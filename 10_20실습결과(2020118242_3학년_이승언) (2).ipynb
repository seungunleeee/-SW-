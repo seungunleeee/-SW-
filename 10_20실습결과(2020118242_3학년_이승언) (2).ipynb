{
 "cells": [
  {
   "cell_type": "code",
   "execution_count": 28,
   "id": "53dcb0de",
   "metadata": {},
   "outputs": [
    {
     "name": "stdout",
     "output_type": "stream",
     "text": [
      "1\n",
      "\n",
      "2\n",
      "\n",
      "3\n",
      "\n",
      "4\n",
      "\n",
      "5\n",
      "\n",
      "6\n",
      "\n",
      "7\n",
      "\n",
      "8\n",
      "\n",
      "9\n",
      "\n",
      "10\n",
      "1 : 10 \n",
      "2 : 20 \n",
      "3 : 30 \n",
      "4 : 40 \n",
      "5 : 50 \n",
      "6 : 60 \n",
      "7 : 70 \n",
      "8 : 80 \n",
      "9 : 90 \n",
      "10 : 100 \n"
     ]
    }
   ],
   "source": [
    "try:\n",
    "    f = open('number1to10.txt','r+t',encoding='UTF8')\n",
    "    t= open('numberby10.txt','r+t',encoding='UTF8')\n",
    "    a = list(range(1,11))\n",
    "    for i in a:\n",
    "        temp=i\n",
    "        f.write(str(temp)+\"\\n\")\n",
    "      \n",
    "    f.seek(0)\n",
    "    for i in a:\n",
    "        temps = f.read(2)\n",
    "        print(temps)\n",
    "        temps=int(temps)*10\n",
    "        t.write(str(temps)+\"\\n\")\n",
    "    t.seek(0)\n",
    "    f.seek(0)\n",
    "    \n",
    "    for i in a:\n",
    "        temp=f.readline()   \n",
    "        temps=t.readline()\n",
    "        print(\"{} : {} \".format(int(temp),int(temps)))\n",
    "        \n",
    "    \n",
    "        \n",
    "    f.close()\n",
    "    t.close()\n",
    "        \n",
    "\n",
    "except IOError:\n",
    "    print('Could not read file:',fname)\n",
    "    sys.exit()\n",
    "except:\n",
    "    print('Unexpected error:',sys.exc_info()[0])\n",
    "    sys.exit()"
   ]
  },
  {
   "cell_type": "code",
   "execution_count": null,
   "id": "6594d6d1",
   "metadata": {},
   "outputs": [],
   "source": []
  }
 ],
 "metadata": {
  "kernelspec": {
   "display_name": "Python 3 (ipykernel)",
   "language": "python",
   "name": "python3"
  },
  "language_info": {
   "codemirror_mode": {
    "name": "ipython",
    "version": 3
   },
   "file_extension": ".py",
   "mimetype": "text/x-python",
   "name": "python",
   "nbconvert_exporter": "python",
   "pygments_lexer": "ipython3",
   "version": "3.9.12"
  }
 },
 "nbformat": 4,
 "nbformat_minor": 5
}
