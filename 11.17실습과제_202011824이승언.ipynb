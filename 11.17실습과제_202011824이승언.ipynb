{
 "cells": [
  {
   "cell_type": "code",
   "execution_count": 4,
   "id": "205c6b4d",
   "metadata": {},
   "outputs": [
    {
     "data": {
      "text/plain": [
       "100"
      ]
     },
     "execution_count": 4,
     "metadata": {},
     "output_type": "execute_result"
    }
   ],
   "source": [
    "(200).__sub__(100)\n"
   ]
  },
  {
   "cell_type": "code",
   "execution_count": 2,
   "id": "e1ab1693",
   "metadata": {},
   "outputs": [
    {
     "data": {
      "text/plain": [
       "20000"
      ]
     },
     "execution_count": 2,
     "metadata": {},
     "output_type": "execute_result"
    }
   ],
   "source": [
    "(200).__mul__(100)"
   ]
  },
  {
   "cell_type": "code",
   "execution_count": 3,
   "id": "dd9d242f",
   "metadata": {},
   "outputs": [
    {
     "data": {
      "text/plain": [
       "2.0"
      ]
     },
     "execution_count": 3,
     "metadata": {},
     "output_type": "execute_result"
    }
   ],
   "source": [
    "(200).__truediv__(100)"
   ]
  },
  {
   "cell_type": "code",
   "execution_count": 5,
   "id": "09107c76",
   "metadata": {},
   "outputs": [
    {
     "data": {
      "text/plain": [
       "40"
      ]
     },
     "execution_count": 5,
     "metadata": {},
     "output_type": "execute_result"
    }
   ],
   "source": [
    "[10,20,30,40].pop()"
   ]
  },
  {
   "cell_type": "code",
   "execution_count": 6,
   "id": "426cf35f",
   "metadata": {},
   "outputs": [
    {
     "ename": "AttributeError",
     "evalue": "'list' object has no attribute 'key'",
     "output_type": "error",
     "traceback": [
      "\u001b[1;31m---------------------------------------------------------------------------\u001b[0m",
      "\u001b[1;31mAttributeError\u001b[0m                            Traceback (most recent call last)",
      "Input \u001b[1;32mIn [6]\u001b[0m, in \u001b[0;36m<cell line: 1>\u001b[1;34m()\u001b[0m\n\u001b[1;32m----> 1\u001b[0m \u001b[43m[\u001b[49m\u001b[38;5;241;43m10\u001b[39;49m\u001b[43m,\u001b[49m\u001b[38;5;241;43m20\u001b[39;49m\u001b[43m,\u001b[49m\u001b[38;5;241;43m30\u001b[39;49m\u001b[43m,\u001b[49m\u001b[38;5;241;43m40\u001b[39;49m\u001b[43m]\u001b[49m\u001b[38;5;241;43m.\u001b[39;49m\u001b[43mkey\u001b[49m()\n",
      "\u001b[1;31mAttributeError\u001b[0m: 'list' object has no attribute 'key'"
     ]
    }
   ],
   "source": [
    "[10,20,30,40].key()"
   ]
  },
  {
   "cell_type": "code",
   "execution_count": 10,
   "id": "d46b18af",
   "metadata": {},
   "outputs": [
    {
     "data": {
      "text/plain": [
       "['__add__',\n",
       " '__class__',\n",
       " '__class_getitem__',\n",
       " '__contains__',\n",
       " '__delattr__',\n",
       " '__delitem__',\n",
       " '__dir__',\n",
       " '__doc__',\n",
       " '__eq__',\n",
       " '__format__',\n",
       " '__ge__',\n",
       " '__getattribute__',\n",
       " '__getitem__',\n",
       " '__gt__',\n",
       " '__hash__',\n",
       " '__iadd__',\n",
       " '__imul__',\n",
       " '__init__',\n",
       " '__init_subclass__',\n",
       " '__iter__',\n",
       " '__le__',\n",
       " '__len__',\n",
       " '__lt__',\n",
       " '__mul__',\n",
       " '__ne__',\n",
       " '__new__',\n",
       " '__reduce__',\n",
       " '__reduce_ex__',\n",
       " '__repr__',\n",
       " '__reversed__',\n",
       " '__rmul__',\n",
       " '__setattr__',\n",
       " '__setitem__',\n",
       " '__sizeof__',\n",
       " '__str__',\n",
       " '__subclasshook__',\n",
       " 'append',\n",
       " 'clear',\n",
       " 'copy',\n",
       " 'count',\n",
       " 'extend',\n",
       " 'index',\n",
       " 'insert',\n",
       " 'pop',\n",
       " 'remove',\n",
       " 'reverse',\n",
       " 'sort']"
      ]
     },
     "execution_count": 10,
     "metadata": {},
     "output_type": "execute_result"
    }
   ],
   "source": [
    "dir(list)\n",
    "# [10,20,30,40].sizeof()"
   ]
  },
  {
   "cell_type": "code",
   "execution_count": 11,
   "id": "ef213cfe",
   "metadata": {},
   "outputs": [
    {
     "ename": "SyntaxError",
     "evalue": "invalid syntax (4151234910.py, line 1)",
     "output_type": "error",
     "traceback": [
      "\u001b[1;36m  Input \u001b[1;32mIn [11]\u001b[1;36m\u001b[0m\n\u001b[1;33m    객체 지향 프로그래밍 함수나 모듈을 미리 만들어두고 이것들을 문제해결 순서에 맞게 호출\u001b[0m\n\u001b[1;37m       ^\u001b[0m\n\u001b[1;31mSyntaxError\u001b[0m\u001b[1;31m:\u001b[0m invalid syntax\n"
     ]
    }
   ],
   "source": [
    "객체 지향 프로그래밍 함수나 모듈을 미리 만들어두고 이것들을 문제해결 순서에 맞게 호출\n",
    "절차적 프로그래밍 클래스들을 이용한 객체들을 이용한다. 클래스는 속성과 행위를 가지며 클래스를 이용해 상호작용하는 객체들을 만들어 \n",
    "프로그램에 적용\n",
    "그래픽 사용자 인터페이스 \n",
    "\n",
    "객체지향 프로그래밍 기법과 절차적 프로그래밍 기법의 차이점"
   ]
  },
  {
   "cell_type": "code",
   "execution_count": 12,
   "id": "b6a3c289",
   "metadata": {},
   "outputs": [
    {
     "ename": "SyntaxError",
     "evalue": "invalid syntax (1695117834.py, line 1)",
     "output_type": "error",
     "traceback": [
      "\u001b[1;36m  Input \u001b[1;32mIn [12]\u001b[1;36m\u001b[0m\n\u001b[1;33m    클래스 설계도\u001b[0m\n\u001b[1;37m        ^\u001b[0m\n\u001b[1;31mSyntaxError\u001b[0m\u001b[1;31m:\u001b[0m invalid syntax\n"
     ]
    }
   ],
   "source": [
    "클래스 설계도\n",
    "객체 하나의 사물(클래스에의 해만들어질수도 , 아닐수도)\n",
    "인스턴스 설계도를 기반으로 만들어진 사물\n",
    "클래스의 속성 -> 클래스가 갖는 \n",
    "클래스의 동작-? 메소드"
   ]
  },
  {
   "cell_type": "code",
   "execution_count": 17,
   "id": "a4979ffa",
   "metadata": {},
   "outputs": [
    {
     "name": "stdout",
     "output_type": "stream",
     "text": [
      "bark\n"
     ]
    }
   ],
   "source": [
    "class dog:\n",
    "    def barking(self,name):\n",
    "        print(\"bark\")\n",
    "mydog  =  dog()\n",
    "mydog.barking()\n",
    "    "
   ]
  },
  {
   "cell_type": "code",
   "execution_count": 22,
   "id": "46d225d6",
   "metadata": {},
   "outputs": [
    {
     "name": "stdout",
     "output_type": "stream",
     "text": [
      "bark\n",
      "Jindo\n"
     ]
    }
   ],
   "source": [
    "class dog:\n",
    "  \n",
    "    \n",
    "    def __init__(self, name):\n",
    "        self.name=name\n",
    "        \n",
    "#         print( {} ,{}).format(self.name,self.color)\n",
    "    def barking(self  ):\n",
    "        print(\"bark\")\n",
    "mydog  =  dog('Jindo')\n",
    "mydog.barking()\n",
    "print(mydog.name)"
   ]
  },
  {
   "cell_type": "code",
   "execution_count": 33,
   "id": "110f0ba2",
   "metadata": {},
   "outputs": [
    {
     "name": "stdout",
     "output_type": "stream",
     "text": [
      "bark\n",
      "(my_dog의 정보 Dog(Jindo) )\n"
     ]
    }
   ],
   "source": [
    "class dog:\n",
    "  \n",
    "    \n",
    "    def __init__(self, name):\n",
    "        self.name=name\n",
    "    \n",
    "    def __str__(self):\n",
    "         return \"Dog(\"+self.name+\")\"\n",
    "#         print( {} ,{}).format(self.name,self.color)\n",
    "    def barking(self  ):\n",
    "        print(\"bark\")\n",
    "mydog  =  dog('Jindo')\n",
    "mydog.barking()\n",
    "print(\"(my_dog의 정보\",mydog,\")\")"
   ]
  },
  {
   "cell_type": "code",
   "execution_count": 34,
   "id": "86f3b503",
   "metadata": {},
   "outputs": [
    {
     "name": "stdout",
     "output_type": "stream",
     "text": [
      "n is m\n"
     ]
    }
   ],
   "source": [
    "n = 100\n",
    "m = 100\n",
    "if n is m :\n",
    "    print ('n is m')\n",
    "else :\n",
    "    print('n is not m')"
   ]
  },
  {
   "cell_type": "code",
   "execution_count": 43,
   "id": "b87c6823",
   "metadata": {},
   "outputs": [
    {
     "name": "stdout",
     "output_type": "stream",
     "text": [
      "v1*v2= (300, 800)\n",
      "v1/v2 (3.0, 2.0)\n",
      "-v1 (-30, -40)\n"
     ]
    }
   ],
   "source": [
    "class Vector2D:\n",
    "    def __init__(self,x,y):\n",
    "        self.x=x\n",
    "        self.y=y\n",
    "    def __add__(self,other):\n",
    "        return Vector2D(self.x + other.x , self.y + other.y)\n",
    "    def __sub__(self,other):\n",
    "        return Vector2D(self.x-other.x,self.y-other.y)\n",
    "    def __str__(self):\n",
    "        return \"({}, {})\".format(self.x, self.y)\n",
    "    def __neg__(self):\n",
    "        return Vector2D(-self.x,-self.y)\n",
    "    def __mul__(self, other):\n",
    "        return Vector2D(self.x*other.x , self.y*other.y)\n",
    "    def __truediv__ (self , other):\n",
    "        if(other.x !=0 and other.y != 0):\n",
    "            return Vector2D(self.x/other.x,self.y/other.y)\n",
    "v1= Vector2D(30,40)\n",
    "v2 = Vector2D(10,20)\n",
    "print(\"v1*v2=\",v1*v2)\n",
    "print(\"v1/v2\",v1/v2)\n",
    "print(\"-v1\",-v1)"
   ]
  },
  {
   "cell_type": "code",
   "execution_count": 58,
   "id": "10c32863",
   "metadata": {},
   "outputs": [
    {
     "name": "stdout",
     "output_type": "stream",
     "text": [
      "False\n",
      "False\n",
      "True\n",
      "True\n"
     ]
    }
   ],
   "source": [
    "class Vector2D:\n",
    "    def __init__(self,x,y):\n",
    "        self.x=x\n",
    "        self.y=y\n",
    "    def __add__(self,other):\n",
    "        return Vector2D(self.x + other.x , self.y + other.y)\n",
    "    def __sub__(self,other):\n",
    "        return Vector2D(self.x-other.x,self.y-other.y)\n",
    "    def __str__(self):\n",
    "        return \"({}, {})\".format(self.x, self.y)\n",
    "    def __neg__(self):\n",
    "        return Vector2D(-self.x,-self.y)\n",
    "    def __mul__(self, other):\n",
    "        return Vector2D(self.x*other.x , self.y*other.y)\n",
    "    def __truediv__ (self , other):\n",
    "        if(other.x !=0 and other.y != 0):\n",
    "            return Vector2D(self.x/other.x,self.y/other.y)\n",
    "    def __lt__(self,other):\n",
    "        if self.x<other.x and self.y < other.y:\n",
    "            return True\n",
    "        else: \n",
    "            return False\n",
    "    def __le__(self,other):\n",
    "        if self.x<=other.x and self.y <= other.y:\n",
    "            return True\n",
    "        else: \n",
    "            return False\n",
    "    def __ge__(self,other):\n",
    "        if self.x>other.x and self.y > other.y:\n",
    "            return True\n",
    "        else: \n",
    "            return False\n",
    "    def __gt__(self,other):\n",
    "        if self.x>= other.x and self.y >= other.y:\n",
    "            return True\n",
    "        else: \n",
    "            return False\n",
    "x= Vector2D(30,40)\n",
    "y = Vector2D(10,20)\n",
    "print(x<y)\n",
    "print(x<=y)\n",
    "print(x>y)\n",
    "print(x>=y)"
   ]
  },
  {
   "cell_type": "code",
   "execution_count": 6,
   "id": "ddc39356",
   "metadata": {},
   "outputs": [
    {
     "name": "stdout",
     "output_type": "stream",
     "text": [
      "c1의 속성들: {'name': 'c1', 'radius': 4}\n",
      "c1\n",
      "{'width': 100, 'height': 200}\n",
      "100\n"
     ]
    }
   ],
   "source": [
    "class circle:\n",
    "    PI=3.1415\n",
    "    def __init__(self,name,radius):\n",
    "        self.name= name;\n",
    "        self.radius = radius;\n",
    "        \n",
    "    def area(self):\n",
    "        self.PI*self.radius**2\n",
    "c1=circle(\"c1\",4)\n",
    "print(\"c1의 속성들:\",c1.__dict__)\n",
    "print(c1.__dict__['name'])\n",
    "\n",
    "class rect:\n",
    "    def __init__(self , width , height):\n",
    "        self.width=width\n",
    "        self.height=height\n",
    "r1= rect(100,200)\n",
    "print(r1.__dict__)\n",
    "print(r1.__dict__['width'])\n",
    "\n"
   ]
  },
  {
   "cell_type": "code",
   "execution_count": 10,
   "id": "9c7acd74",
   "metadata": {},
   "outputs": [
    {
     "name": "stdout",
     "output_type": "stream",
     "text": [
      "{'_Rect__width': 100, '_Rect__height': 200}\n",
      "100\n"
     ]
    }
   ],
   "source": [
    "class Rect:\n",
    "    def __init__(self , width , height):\n",
    "        self.__width=width\n",
    "        self.__height=height\n",
    "r1= Rect(100,200)\n",
    "print(r1.__dict__)\n",
    "print(r1.__dict__['_Rect__width'])"
   ]
  },
  {
   "cell_type": "code",
   "execution_count": 13,
   "id": "d6cf8f54",
   "metadata": {},
   "outputs": [
    {
     "name": "stdout",
     "output_type": "stream",
     "text": [
      "이름은 Mango이고, 나이는 3살입니다\n"
     ]
    }
   ],
   "source": [
    "class mydog:\n",
    "    def __init__(self,name,age):\n",
    "        self.name=name\n",
    "        self.age=age\n",
    "    def __str__(self):\n",
    "        return \"이름은 {}이고, 나이는 {}살입니다\".format(self.name,self.age)\n",
    "my_dog=mydog('Mango',3)\n",
    "print(my_dog)"
   ]
  },
  {
   "cell_type": "code",
   "execution_count": 28,
   "id": "03262143",
   "metadata": {},
   "outputs": [
    {
     "name": "stdout",
     "output_type": "stream",
     "text": [
      "c1= 11\n",
      "\n",
      "c2= 1\n",
      "c2= 0\n",
      "c3= 30\n",
      "c4= 0\n"
     ]
    }
   ],
   "source": [
    "class counter:\n",
    "    _number=0\n",
    "    def __init__(self,number=0):\n",
    "        if(number<=-1):\n",
    "            self._number=0\n",
    "      \n",
    "        else:\n",
    "            self._number=number\n",
    "    def reset(self):\n",
    "        self._number =0\n",
    "    def inc(self):\n",
    "        self._number+=1\n",
    "        if(self._number>=100):\n",
    "            self._number=0\n",
    "    def dec(self):\n",
    "        self._number-=1\n",
    "        if(self._number<=-1):\n",
    "            self._number=0\n",
    "    def __str__(self):\n",
    "        return \"{}\".format(self._number)\n",
    "    def __add__(self,other):\n",
    "        return counter(self._number+other._number)\n",
    "    def __sub__(self,other):\n",
    "        return counter(self._number-other._number)\n",
    "c1 =counter(10)\n",
    "c1.inc()\n",
    "print(\"c1=\",c1)\n",
    "print()\n",
    "c2 = counter()\n",
    "c2.inc()\n",
    "c2.inc()\n",
    "c2.dec()\n",
    "print('c2=',c2)\n",
    "c2.reset()\n",
    "print('c2=',c2)\n",
    "\n",
    "c1=counter(10)\n",
    "c2 = counter(20)\n",
    "c3 = c1+ c2\n",
    "c4 = c1 -c2\n",
    "print('c3=',c3)\n",
    "print('c4=',c4)"
   ]
  },
  {
   "cell_type": "code",
   "execution_count": 37,
   "id": "e97c6f50",
   "metadata": {},
   "outputs": [
    {
     "name": "stdout",
     "output_type": "stream",
     "text": [
      "홍길동의 계좌 1234-0001 의 잔고는 0원입니다\n",
      "홍길동의 계좌 1234-0001 의 잔고는 2000원입니다\n",
      "홍길동의 계좌 1234-0001 의 잔고는 1500원입니다\n"
     ]
    },
    {
     "data": {
      "text/plain": [
       "'계산잔고는 1500 이므로 인출 요금금액 5000보다 적습니다'"
      ]
     },
     "execution_count": 37,
     "metadata": {},
     "output_type": "execute_result"
    }
   ],
   "source": [
    "class BankAccount:\n",
    "    __name=\"\"\n",
    "    __account_num=\"\"\n",
    "    __balance=0\n",
    "    def __init__(self,name=\"\",accountnum=\"\",balance=0):\n",
    "        self.__name=name\n",
    "        self.__account_num=accountnum\n",
    "        self.__balance=balance\n",
    "    def get_name(self):\n",
    "        return self.__name\n",
    "    def get_account_num(self):\n",
    "        return self.__account_num\n",
    "    def get_balance(self):\n",
    "        return self.__balance\n",
    "    def deposit(self,money=0):\n",
    "        if(money<0):\n",
    "            return \n",
    "        self.__balance+=money\n",
    "        return \"{}원이 입금되었습니다. 잔고는 {}입니다\".format(money,self.__balance)\n",
    "    def withdraw(self,money):\n",
    "        if(money<0):\n",
    "            return\n",
    "        if(self.__balance-money)<0:\n",
    "            return \"계산잔고는 {} 이므로 인출 요금금액 {}보다 적습니다\".format(self.__balance,money)\n",
    "        else:\n",
    "            self.__balance-=money\n",
    "            return \"{}님의 계좌 {}의 잔고는 {}원입니다\".format(self.__name,self.__account_num,self.__balance)\n",
    "    def __str__(self):\n",
    "        return \"{}의 계좌 {} 의 잔고는 {}원입니다\".format(self.__name,self.__account_num,self.__balance)\n",
    "account1 = BankAccount('홍길동','1234-0001')\n",
    "print(account1)\n",
    "account1.deposit(2000)\n",
    "print(account1)\n",
    "account1.withdraw(500)\n",
    "print(account1)\n",
    "account1.withdraw(5000)"
   ]
  },
  {
   "cell_type": "code",
   "execution_count": 46,
   "id": "1d292692",
   "metadata": {},
   "outputs": [
    {
     "name": "stdout",
     "output_type": "stream",
     "text": [
      "학생의 이름을 입력하세요 : 홍길동\n",
      "학생의 학번을 입력하세요20200012\n",
      "학생의 국어 성적을 입력하세요85\n",
      "학생의 수학 성적을 입력하세요90\n",
      "학생의 과학 성적을 입력하세요95\n",
      "이름:홍길동, 학번:20200012 국어성적:85, 수학성적;90, 과학성적:95, 합계:270,평균:90.0\n"
     ]
    }
   ],
   "source": [
    "class student:\n",
    "    name=\"\"\n",
    "    student_id=\"\"\n",
    "    korean_quiz=0\n",
    "    math_quiz=0\n",
    "    science_quiz=0\n",
    "    total_score=0\n",
    "    def __init__(self,name=\"\",student_id=\"\",korean_quiz=0,math_quiz=0,science_quiz=0,\n",
    "                 total_score=korean_quiz+math_quiz+science_quiz):\n",
    "        self.name=name\n",
    "        self.student_id=student_id\n",
    "        self.korean_quiz=korean_quiz\n",
    "        self.math_quiz=math_quiz\n",
    "        self.science_quiz= science_quiz\n",
    "        total_socre=total_score\n",
    "    def __str__(self):\n",
    "        return \"이름:{}, 학번:{} 국어성적:{}, 수학성적;{}, 과학성적:{}, 합계:{},평균:{}\".format(self.name,self.student_id,\n",
    "    self.korean_quiz,self.math_quiz,self.science_quiz,self.total_score,self.total_score/3)\n",
    "    \n",
    "    def getname(self):\n",
    "        return self.name\n",
    "    def get_student_id(self):\n",
    "        return self.student_id\n",
    "    def get_korean_quiz(self):\n",
    "        return self.korean_quiz\n",
    "    def get_math_quiz(self):\n",
    "        return self.math_quiz\n",
    "    def get_science_quiz(self):\n",
    "        return self.science_quiz\n",
    "    def set_korean_quiz(self,score=0):\n",
    "        self.total_score+=score\n",
    "        self.korean_quiz=score\n",
    "    def set_math_quiz(self,score=0):\n",
    "        self.total_score+=score\n",
    "        self.math_quiz=score\n",
    "    def set_science_quiz(self,score=0):\n",
    "        self.total_score+=score\n",
    "        self.science_quiz=score\n",
    "name =input('학생의 이름을 입력하세요 : ')\n",
    "student_id = input('학생의 학번을 입력하세요')\n",
    "    \n",
    "Student = student(name,student_id)\n",
    "\n",
    "korean_quiz =int(input('학생의 국어 성적을 입력하세요'))\n",
    "math_quiz =int(input('학생의 수학 성적을 입력하세요'))\n",
    "science_quiz =int(input('학생의 과학 성적을 입력하세요'))\n",
    "Student.set_korean_quiz(korean_quiz)\n",
    "Student.set_math_quiz(math_quiz)\n",
    "Student.set_science_quiz(science_quiz)\n",
    "print(Student)\n"
   ]
  },
  {
   "cell_type": "code",
   "execution_count": null,
   "id": "6caa6121",
   "metadata": {},
   "outputs": [],
   "source": []
  }
 ],
 "metadata": {
  "kernelspec": {
   "display_name": "Python 3 (ipykernel)",
   "language": "python",
   "name": "python3"
  },
  "language_info": {
   "codemirror_mode": {
    "name": "ipython",
    "version": 3
   },
   "file_extension": ".py",
   "mimetype": "text/x-python",
   "name": "python",
   "nbconvert_exporter": "python",
   "pygments_lexer": "ipython3",
   "version": "3.9.12"
  }
 },
 "nbformat": 4,
 "nbformat_minor": 5
}
