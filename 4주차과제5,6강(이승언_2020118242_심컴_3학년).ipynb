{
 "cells": [
  {
   "cell_type": "code",
   "execution_count": 33,
   "metadata": {},
   "outputs": [
    {
     "name": "stdout",
     "output_type": "stream",
     "text": [
      " \"life is short. \n",
      " python is long\" \n",
      "Python is \n"
     ]
    }
   ],
   "source": [
    "n_list=[11,22,33,44,55,66]\n",
    "len(n_list)\n",
    "\n",
    "\n",
    "str_=\"\"\" \"life is short. \\n python is long\" \"\"\" \n",
    "print (str_)\n",
    "head=\"Python\"\n",
    "tail=\" is fun!\"\n",
    "print((head+tail)[0:10])"
   ]
  },
  {
   "cell_type": "code",
   "execution_count": 16,
   "metadata": {},
   "outputs": [
    {
     "name": "stdout",
     "output_type": "stream",
     "text": [
      "2  \n",
      "3  \n",
      "5  \n",
      "7  \n",
      "2\n",
      "7\n",
      "7\n"
     ]
    }
   ],
   "source": [
    "a=list(range(2,11))\n",
    "primelist=[];\n",
    "done=0;\n",
    "for b in a:\n",
    "    if b==2:\n",
    "        primelist.append(2);\n",
    "        continue\n",
    "    for c in range(2,b):\n",
    "        if b%c==0:\n",
    "            done=-1\n",
    "            break\n",
    "        done=0;\n",
    "    if done==0:\n",
    "        primelist.append(b)\n",
    "for ans in primelist:\n",
    "    print(ans,\" \")\n",
    "print( primelist[0])\n",
    "print(primelist[len(primelist)-1])\n",
    "print(primelist[-1])\n",
    "            "
   ]
  },
  {
   "cell_type": "code",
   "execution_count": 30,
   "metadata": {},
   "outputs": [
    {
     "name": "stdout",
     "output_type": "stream",
     "text": [
      "korea\n",
      "malaysia\n",
      "malaysia\n",
      "malaysia\n",
      "['korea', 'china', 'russia']\n"
     ]
    }
   ],
   "source": [
    "nations =['korea','china','russia','malaysia']\n",
    "print(nations[0])\n",
    "print(nations[len(nations)-1])\n",
    "print(nations[-1])\n",
    "\n",
    "print(nations.pop())\n",
    "print(nations)"
   ]
  },
  {
   "cell_type": "code",
   "execution_count": 32,
   "metadata": {},
   "outputs": [
    {
     "name": "stdout",
     "output_type": "stream",
     "text": [
      "False\n"
     ]
    }
   ],
   "source": [
    "a_list=[10,20,30,40]\n",
    "print(10 not in a_list)"
   ]
  },
  {
   "cell_type": "code",
   "execution_count": 37,
   "metadata": {},
   "outputs": [
    {
     "name": "stdout",
     "output_type": "stream",
     "text": [
      "[2, 3, 5, 7]\n",
      "[2, 3, 5, 7, 11]\n"
     ]
    }
   ],
   "source": [
    "temp = list([])\n",
    "done=0\n",
    "for i in range(2,11):\n",
    "    if i==2:\n",
    "        temp.append(i)\n",
    "        continue\n",
    "    for a in range(2,i):\n",
    "        if i%a==0:\n",
    "            done=-1\n",
    "            break\n",
    "        done=0\n",
    "    if done==0:\n",
    "        temp.append(i)\n",
    "        \n",
    "print(temp)\n",
    "temp.append(11)\n",
    "print(temp)\n"
   ]
  },
  {
   "cell_type": "code",
   "execution_count": 40,
   "metadata": {},
   "outputs": [
    {
     "name": "stdout",
     "output_type": "stream",
     "text": [
      "['Korea', 'China', 'Russia', 'Malaysia']\n",
      "['Korea', 'China', 'Russia', 'Malaysia', 'Napal']\n",
      "Japan  는(은) 국가 목록에 없습니다\n",
      "Russia  는(은) 국가 목록에 있습니다\n"
     ]
    }
   ],
   "source": [
    "def isnation(a,nations):\n",
    "        if a in nations:\n",
    "            print(a,' 는(은) 국가 목록에 있습니다')\n",
    "        else:\n",
    "            print(a,' 는(은) 국가 목록에 없습니다')\n",
    "\n",
    "\n",
    "nations=['Korea','China','Russia','Malaysia']\n",
    "print(nations)\n",
    "nations.append('Napal')\n",
    "print(nations)\n",
    "\n",
    "isnation('Japan',nations)\n",
    "isnation('Russia',nations)\n",
    "\n"
   ]
  },
  {
   "cell_type": "code",
   "execution_count": 43,
   "metadata": {},
   "outputs": [
    {
     "name": "stdout",
     "output_type": "stream",
     "text": [
      "[2, 3, 5, 7]\n",
      "2\n",
      "7\n",
      "17\n",
      "4.25\n",
      "사전에 가장 먼저 나오는 나라 :  China\n",
      "사전에 가장 먼저 나오는 나라 :  Russia\n",
      "i eat 20 apples . \n"
     ]
    }
   ],
   "source": [
    "a=list(range(2,11))\n",
    "primelist=[];\n",
    "done=0;\n",
    "for b in a:\n",
    "    if b==2:\n",
    "        primelist.append(2);\n",
    "        continue\n",
    "    for c in range(2,b):\n",
    "        if b%c==0:\n",
    "            done=-1\n",
    "            break\n",
    "        done=0;\n",
    "    if done==0:\n",
    "        primelist.append(b)\n",
    "print(primelist)\n",
    "print(min(primelist))\n",
    "print(max(primelist))\n",
    "print(sum(primelist))\n",
    "print(sum(primelist)/len(primelist))\n",
    "nations=['Korea','China','Russia','Malaysia']\n",
    "print('사전에 가장 먼저 나오는 나라 : ',min(nations))\n",
    "print('사전에 가장 먼저 나오는 나라 : ',max(nations))\n",
    "\n",
    "# a = \"i eat %d apples . \" % 20\n",
    "# print(a)\n"
   ]
  },
  {
   "cell_type": "code",
   "execution_count": 51,
   "metadata": {},
   "outputs": [
    {
     "name": "stdout",
     "output_type": "stream",
     "text": [
      "[1, 2, 3]\n",
      "[1, 2, 3, [10, 20, 30]]\n",
      "[1, 2, 3, 10, 20, 30]\n"
     ]
    }
   ],
   "source": [
    "a=[1,2,3]\n",
    "b=list(range(10,31,10))\n",
    "print(a)\n",
    "a.append(b)\n",
    "print(a)\n",
    "a.pop()\n",
    "a.extend(b)\n",
    "print(a)"
   ]
  },
  {
   "cell_type": "code",
   "execution_count": 62,
   "metadata": {},
   "outputs": [
    {
     "name": "stdout",
     "output_type": "stream",
     "text": [
      "[0, 1, 2, 3, 4, 5, 6, 7, 8, 9, 10]\n",
      "[10, 9, 8, 7, 6, 5, 4, 3, 2, 1, 0]\n",
      "0\n",
      "[10, 9, 8, 7, 6, 5, 4, 3, 2, 1]\n"
     ]
    }
   ],
   "source": [
    "nlist=list(range(0,11))\n",
    "print(nlist)\n",
    "nlist.sort(reverse=True)\n",
    "print(nlist)\n",
    "print(nlist.pop())\n",
    "print(nlist)"
   ]
  },
  {
   "cell_type": "code",
   "execution_count": 65,
   "metadata": {},
   "outputs": [
    {
     "name": "stdout",
     "output_type": "stream",
     "text": [
      "반복할 정수를 입력하시오: 3\n",
      "[1, 2, 3, 1, 2, 3, 1, 2, 3]\n",
      "반복할 정수를 입력하시오: 4\n",
      "[1, 2, 3, 1, 2, 3, 1, 2, 3, 1, 2, 3]\n"
     ]
    }
   ],
   "source": [
    "a=int(input('반복할 정수를 입력하시오: ' ))\n",
    "b=list(range(1,4))\n",
    "print(b*a)\n",
    "a=int(input('반복할 정수를 입력하시오: ' ))\n",
    "print(b*a)"
   ]
  },
  {
   "cell_type": "code",
   "execution_count": 72,
   "metadata": {},
   "outputs": [
    {
     "name": "stdout",
     "output_type": "stream",
     "text": [
      "pop가 없어졌어요!\n",
      "popi가 없어졌어요!\n",
      "<bound method Animal.setInfo of <__main__.Animal object at 0x000001C6DE4E4C10>>\n",
      "<bound method Animal.setInfo of <__main__.Animal object at 0x000001C6DE4E4A90>>\n"
     ]
    }
   ],
   "source": [
    "class Animal :\n",
    "\n",
    "    def __init__(self, name = None, age = None):\n",
    "        if name == None :\n",
    "            self.name = \"이름이 없어요!\"\n",
    "        if age == None : \n",
    "            self.age = \"나이를 모르겠어요!\"\n",
    "            return\n",
    "        self.name = name\n",
    "        self.age = age\n",
    "\n",
    "    def setInfo(self):\n",
    "        print(\"이름은 뭔가요?\")\n",
    "        self.name = input()\n",
    "        print(\"나이는 몇 살인가요?\")\n",
    "        self.age = input()\n",
    "    def __del__(self):\n",
    "        print(\"{}가 없어졌어요!\" .format(self.name))\n",
    "\n",
    "cat = Animal(\"popi\", 2)\n",
    "dog = Animal(\"pop\",3)\n",
    "a=list([]);\n",
    "a.extend([cat,dog])\n",
    "for c in a:\n",
    "    print(c.setInfo)"
   ]
  },
  {
   "cell_type": "code",
   "execution_count": 93,
   "metadata": {},
   "outputs": [
    {
     "name": "stdout",
     "output_type": "stream",
     "text": [
      "[0, 1, 2, 3, 4]\n",
      "[6, 7, 8, 9, 10]\n",
      "[11, 12, 13, 14]\n",
      "[2, 4, 6, 8, 10]\n",
      "[10, 9, 8, 7, 6]\n",
      "[10, 8, 6, 4, 2]\n"
     ]
    }
   ],
   "source": [
    "n_list=list(range(0,15))\n",
    "print(n_list[0:5])\n",
    "print(n_list[6:11])\n",
    "print(n_list[11:15])\n",
    "print(n_list[2:11:2])\n",
    "print(n_list[10:5:-1])\n",
    "print(n_list[10:0:-2])\n"
   ]
  },
  {
   "cell_type": "code",
   "execution_count": 108,
   "metadata": {},
   "outputs": [
    {
     "name": "stdout",
     "output_type": "stream",
     "text": [
      "Seoul\n",
      "Beijing\n",
      "Washington DC\n",
      "\n",
      "apple 의 가격은  5000\n",
      "banana 의 가격은  4000\n",
      "grape 의 가격은  5300\n",
      "melon 의 가격은  6500\n",
      "apple 의 가격은  5000\n",
      "banana 의 가격은  4000\n",
      "grape 의 가격은  5300\n",
      "melon 의 가격은  6500\n"
     ]
    }
   ],
   "source": [
    "capital_dic={'Korea':'Seoul', 'China':'Beijing','USA':'Washington DC'}\n",
    "print(capital_dic['Korea'])\n",
    "print(capital_dic['China'])\n",
    "print(capital_dic['USA'])\n",
    "print()\n",
    "\n",
    "fruits_dic={'apple':5000,'banana':4000,'grape':5300,'melon':6500}\n",
    "for a in fruits_dic:\n",
    "    print(a,'의 가격은 ',fruits_dic[a])\n",
    "    \n",
    "    \n",
    "a=capital_dic\n",
    "a['apple']=100000\n",
    "\n",
    "for a in fruits_dic:\n",
    "    print(a,'의 가격은 ',fruits_dic[a])\n",
    "    "
   ]
  },
  {
   "cell_type": "code",
   "execution_count": 109,
   "metadata": {},
   "outputs": [
    {
     "name": "stdout",
     "output_type": "stream",
     "text": [
      "{'이름': '홍길동', '나이': 26, '몸무게': 82, '특기': '분신술'}\n",
      "{'이름': '홍길동', '나이': 26, '몸무게': 82, '특기': '분신술', '아버지': '홍판서'}\n",
      "{'이름': '홍길동', '몸무게': 82, '특기': '분신술', '아버지': '홍판서'}\n"
     ]
    }
   ],
   "source": [
    "person = {'이름':'홍길동','나이':26,'몸무게':82,'특기':'분신술'}\n",
    "print(person)\n",
    "person['아버지']='홍판서'\n",
    "print(person)\n",
    "del person['나이']\n",
    "print(person)"
   ]
  },
  {
   "cell_type": "code",
   "execution_count": 112,
   "metadata": {},
   "outputs": [
    {
     "name": "stdout",
     "output_type": "stream",
     "text": [
      "True\n",
      "True\n",
      "True\n",
      "True 홍길동\n"
     ]
    }
   ],
   "source": [
    "capital_dic={'Korea':'Seoul', 'China':'Beijing','USA':'Washington DC'}\n",
    "if 'Korea' in capital_dic:\n",
    "    print(True)\n",
    "if 'China' in capital_dic:\n",
    "    print(True)\n",
    "if 'USA' in capital_dic:\n",
    "    print(True)\n",
    "# if 'Seoul' in capital_dic.values():\n",
    "#     print(True, '홍길동')"
   ]
  },
  {
   "cell_type": "code",
   "execution_count": 117,
   "metadata": {},
   "outputs": [
    {
     "name": "stdout",
     "output_type": "stream",
     "text": [
      "dict_keys(['apple', 'melon', 'banana', 'orange'])\n",
      "dict_values([6000, 3000, 5000, 7000])\n",
      "6000\n",
      "None\n"
     ]
    }
   ],
   "source": [
    "products ={'apple':6000,'melon':3000,'banana':5000,'orange':7000}\n",
    "print(products.keys())\n",
    "print(products.values())\n",
    "print(products.pop('apple'))\n",
    "print(products.clear())"
   ]
  },
  {
   "cell_type": "code",
   "execution_count": 127,
   "metadata": {},
   "outputs": [
    {
     "name": "stdout",
     "output_type": "stream",
     "text": [
      "['apple', 'melon', 'banana', 'orange']\n",
      "[6000, 3000, 5000, 4000]\n",
      "4\n",
      "apple is in fruits_dic\n",
      "mango is not in fruits_dic\n"
     ]
    }
   ],
   "source": [
    "products ={'apple':6000,'melon':3000,'banana':5000,'orange':4000}\n",
    "print(list(products.keys()))\n",
    "print(list(products.values()))\n",
    "print(len(list(products.keys())))\n",
    "\n",
    "if 'apple' in products:\n",
    "    print('apple is in fruits_dic')\n",
    "else:\n",
    "    print('apple is in fruits_dic')\n",
    "if 'mango' in products:\n",
    "    print('mango iis in fruits_dic')\n",
    "else:\n",
    "     print('mango is not in fruits_dic')"
   ]
  },
  {
   "cell_type": "code",
   "execution_count": 134,
   "metadata": {},
   "outputs": [
    {
     "name": "stdout",
     "output_type": "stream",
     "text": [
      "1919년 3월 1일은 삼일절입니다.\n"
     ]
    }
   ],
   "source": [
    "the_day=(1919,3,1)\n",
    "year,month,day=the_day\n",
    "print(\"%d년 %d월 %d일은 삼일절입니다.\"%(year,month,day))\n",
    "\n"
   ]
  },
  {
   "cell_type": "code",
   "execution_count": 147,
   "metadata": {},
   "outputs": [
    {
     "name": "stdout",
     "output_type": "stream",
     "text": [
      "(10, 20, 30)\n",
      "30\n",
      "20\n",
      "10\n"
     ]
    }
   ],
   "source": [
    "\n",
    "d=(10,20,30)\n",
    "print(d)\n",
    "c,b,a=d\n",
    "print(a)\n",
    "print(b)\n",
    "print(c)"
   ]
  },
  {
   "cell_type": "code",
   "execution_count": 146,
   "metadata": {},
   "outputs": [
    {
     "ename": "TypeError",
     "evalue": "sequence item 0: expected str instance, int found",
     "output_type": "error",
     "traceback": [
      "\u001b[1;31m---------------------------------------------------------------------------\u001b[0m",
      "\u001b[1;31mTypeError\u001b[0m                                 Traceback (most recent call last)",
      "\u001b[1;32m<ipython-input-146-49f899bd77ed>\u001b[0m in \u001b[0;36m<module>\u001b[1;34m\u001b[0m\n\u001b[0;32m      1\u001b[0m \u001b[0ma\u001b[0m\u001b[1;33m=\u001b[0m\u001b[0mlist\u001b[0m\u001b[1;33m(\u001b[0m\u001b[0mrange\u001b[0m\u001b[1;33m(\u001b[0m\u001b[1;36m1\u001b[0m\u001b[1;33m,\u001b[0m\u001b[1;36m4\u001b[0m\u001b[1;33m)\u001b[0m\u001b[1;33m)\u001b[0m\u001b[1;33m\u001b[0m\u001b[1;33m\u001b[0m\u001b[0m\n\u001b[1;32m----> 2\u001b[1;33m \u001b[0mb\u001b[0m\u001b[1;33m=\u001b[0m\u001b[1;34m','\u001b[0m\u001b[1;33m.\u001b[0m\u001b[0mjoin\u001b[0m\u001b[1;33m(\u001b[0m\u001b[0ma\u001b[0m\u001b[1;33m)\u001b[0m\u001b[1;33m\u001b[0m\u001b[1;33m\u001b[0m\u001b[0m\n\u001b[0m\u001b[0;32m      3\u001b[0m \u001b[0mprint\u001b[0m\u001b[1;33m(\u001b[0m\u001b[0mb\u001b[0m\u001b[1;33m)\u001b[0m\u001b[1;33m\u001b[0m\u001b[1;33m\u001b[0m\u001b[0m\n",
      "\u001b[1;31mTypeError\u001b[0m: sequence item 0: expected str instance, int found"
     ]
    }
   ],
   "source": [
    "a=list(range(1,4))\n",
    "b=','.join(a)\n",
    "print(b)"
   ]
  },
  {
   "cell_type": "code",
   "execution_count": 159,
   "metadata": {},
   "outputs": [
    {
     "name": "stdout",
     "output_type": "stream",
     "text": [
      "('홍길동', 2020003, 179)\n"
     ]
    }
   ],
   "source": [
    "person=('홍길동',2019001,179)\n",
    "# person[1]=2020111\n",
    "temp=   list(person)\n",
    "temp[1]=2020003\n",
    "person1=   tuple(temp)\n",
    "print(person1)"
   ]
  },
  {
   "cell_type": "code",
   "execution_count": 161,
   "metadata": {},
   "outputs": [
    {
     "name": "stdout",
     "output_type": "stream",
     "text": [
      "x : 10\n",
      "y : 12\n",
      "10제곱 = 100, 12제곱 = 144\n"
     ]
    }
   ],
   "source": [
    "def square(x,y):\n",
    "    ans=(x*x,y*y)\n",
    "    return ans\n",
    "x=int(input('x : '))\n",
    "y=int(input('y : '))\n",
    "x_sq,y_sq=square(x,y)\n",
    "print('{}제곱 = {}, {}제곱 = {}'.format(x,x_sq,y,y_sq))"
   ]
  },
  {
   "cell_type": "code",
   "execution_count": 163,
   "metadata": {},
   "outputs": [
    {
     "name": "stdout",
     "output_type": "stream",
     "text": [
      "(10, 20, 30, 40, 50, 60)\n",
      "hello hello hello \n",
      "--------------------\n",
      "('hello ', 'hello ', 'hello ')\n",
      "--------------------\n"
     ]
    }
   ],
   "source": [
    "print((10,20,30)+(40,50,60))\n",
    "print('hello '*3)\n",
    "print('-'*20)\n",
    "print(('hello ',)*3)\n",
    "print('-'*20)"
   ]
  },
  {
   "cell_type": "code",
   "execution_count": 166,
   "metadata": {},
   "outputs": [
    {
     "name": "stdout",
     "output_type": "stream",
     "text": [
      "['apple', 'mango', 'banana']\n",
      "{'mango', 'banana', 'apple'}\n",
      "{'t', 'd', 'r', 'f', 'e', 'n', ' ', 'a', 'o', 'G'}\n"
     ]
    }
   ],
   "source": [
    "lst=['apple','mango','banana']\n",
    "print(lst)\n",
    "s1=set(lst)\n",
    "print(s1)\n",
    "greet = 'Good afternoon'\n",
    "a = list(greet)\n",
    "b=set(a)\n",
    "print(b)"
   ]
  },
  {
   "cell_type": "code",
   "execution_count": 170,
   "metadata": {},
   "outputs": [
    {
     "name": "stdout",
     "output_type": "stream",
     "text": [
      "{70, 40, 10, 50, 20, 60, 30}\n",
      "{40, 30}\n",
      "{10, 20}\n",
      "{50, 20, 70, 10, 60}\n",
      "False\n",
      "False\n",
      "False\n"
     ]
    }
   ],
   "source": [
    "s1={10,20,30,40}\n",
    "s2 ={30,40,50,60,70}\n",
    "print(s1|s2)\n",
    "print(s1&s2)\n",
    "print(s1-s2)\n",
    "print(s1^s2)\n",
    "print(s1.issubset(s2))\n",
    "print(s1.issuperset(s2))\n",
    "print(s1.isdisjoint(s2))\n"
   ]
  },
  {
   "cell_type": "code",
   "execution_count": 175,
   "metadata": {
    "scrolled": true
   },
   "outputs": [
    {
     "name": "stdout",
     "output_type": "stream",
     "text": [
      "A*b :  {(2, 'a'), (1, 'b'), (2, 'b'), (1, 'c'), (1, 'a'), (2, 'c')}\n",
      "A*b :  {('c', 2), ('a', 2), ('b', 2), ('b', 1), ('c', 1), ('a', 1)}\n",
      "A*b :  {(1, 1), (1, 2), (2, 1), (2, 2)}\n",
      "A*b :  {('c', 'c'), ('a', 'c'), ('c', 'a'), ('a', 'a'), ('c', 'b'), ('a', 'b'), ('b', 'c'), ('b', 'b'), ('b', 'a')}\n"
     ]
    }
   ],
   "source": [
    "def prodeuct_set(set1,set2):\n",
    "    res=set()\n",
    "    for i in set1:\n",
    "        for j in set2:\n",
    "            res =res|{(i,j)}\n",
    "    return res\n",
    "a={1,2}\n",
    "b= {'a','b','c'}\n",
    "print (\"A*b : \",prodeuct_set(a,b))\n",
    "print (\"b*a : \",prodeuct_set(b,a))\n",
    "print (\"a*a : \",prodeuct_set(a,a))\n",
    "print (\"b*b : \",prodeuct_set(b,b))"
   ]
  },
  {
   "cell_type": "code",
   "execution_count": 184,
   "metadata": {},
   "outputs": [
    {
     "ename": "IndentationError",
     "evalue": "unexpected indent (<ipython-input-184-49f709be28b9>, line 11)",
     "output_type": "error",
     "traceback": [
      "\u001b[1;36m  File \u001b[1;32m\"<ipython-input-184-49f709be28b9>\"\u001b[1;36m, line \u001b[1;32m11\u001b[0m\n\u001b[1;33m    for i in set1:\u001b[0m\n\u001b[1;37m    ^\u001b[0m\n\u001b[1;31mIndentationError\u001b[0m\u001b[1;31m:\u001b[0m unexpected indent\n"
     ]
    }
   ],
   "source": [
    "def tuple_sum(tup):\n",
    "    if isinstance(tup,int):\n",
    "        return tup\n",
    "    else:\n",
    "        accum=0\n",
    "        for element in tup :\n",
    "            accum+= tuple_sum(element)\n",
    "        return accum\n",
    "def product_set(set1,set2):\n",
    "    res=set()\n",
    "        for i in set1:\n",
    "            for j in set2:\n",
    "                res =res|{(i,j)}\n",
    "    return res\n",
    "def exp(input_set,exponent):\n",
    "    res=input_set\n",
    "    for _ in range(exponent-1):\n",
    "        res=product_set(res,input_set)\n",
    "    return res\n",
    "\n",
    "print ( exp({1.2.3.4.5.6},3))\n"
   ]
  },
  {
   "cell_type": "code",
   "execution_count": 2,
   "metadata": {},
   "outputs": [
    {
     "name": "stdout",
     "output_type": "stream",
     "text": [
      "3  *  2 = 6\n",
      "3  *  3 = 9\n",
      "3  *  4 = 12\n",
      "3  *  5 = 15\n",
      "3  *  6 = 18\n",
      "5  *  2 = 10\n",
      "5  *  3 = 15\n",
      "5  *  4 = 20\n",
      "5  *  5 = 25\n",
      "5  *  6 = 30\n",
      "7  *  2 = 14\n",
      "7  *  3 = 21\n",
      "7  *  4 = 28\n",
      "7  *  5 = 35\n",
      "7  *  6 = 42\n"
     ]
    }
   ],
   "source": [
    "list1 =(3,5,7)\n",
    "list2 = (2,3,4,5,6)\n",
    "\n",
    "for i in  list1:\n",
    "    for j in list2:\n",
    "        print (i,' * ',j,'=',i*j)"
   ]
  },
  {
   "cell_type": "code",
   "execution_count": 15,
   "metadata": {},
   "outputs": [
    {
     "name": "stdout",
     "output_type": "stream",
     "text": [
      "[10, 20, 30, 40, 50, 60]\n",
      "210\n"
     ]
    }
   ],
   "source": [
    "a=list(range(10,61,10))\n",
    "print(a)\n",
    "sum=0\n",
    "for i in a:\n",
    "    sum+=i\n",
    "print(sum)"
   ]
  },
  {
   "cell_type": "code",
   "execution_count": 12,
   "metadata": {},
   "outputs": [
    {
     "name": "stdout",
     "output_type": "stream",
     "text": [
      "[7, 6, 5, 4, 3, 2]\n"
     ]
    }
   ],
   "source": [
    "a=list(range(2,8))\n",
    "rev_a=[]\n",
    "for i in range(len(a)):\n",
    "    \n",
    "    rev_a.append(a.pop())\n",
    "print(rev_a)"
   ]
  },
  {
   "cell_type": "code",
   "execution_count": 17,
   "metadata": {},
   "outputs": [
    {
     "name": "stdout",
     "output_type": "stream",
     "text": [
      "60\n"
     ]
    }
   ],
   "source": [
    "a= list(range(10,61,10))\n",
    "max=0;\n",
    "for i in a:\n",
    "    if max<i:\n",
    "            max=i\n",
    "print(max)            \n",
    "            \n"
   ]
  },
  {
   "cell_type": "code",
   "execution_count": 23,
   "metadata": {},
   "outputs": [
    {
     "name": "stdout",
     "output_type": "stream",
     "text": [
      "bcdef\n"
     ]
    }
   ],
   "source": [
    "s_list=['abc','bcd','bcdef','abba','cddc','opq']\n",
    "max=len(s_list[1])\n",
    "ans=''\n",
    "for i in s_list:\n",
    "    if max<len(i):\n",
    "            max=len(i)\n",
    "            ans=i\n",
    "print(ans)\n",
    "            "
   ]
  },
  {
   "cell_type": "code",
   "execution_count": null,
   "metadata": {},
   "outputs": [],
   "source": [
    "\n",
    "\n",
    "a=int(input('n을 입력하세요'))\n",
    "del max\n",
    "print(a)\n",
    "b=list(range(3))\n",
    "for i in range(len(b)):\n",
    "    b[i]=int(input())\n",
    "print('합: ',sum(b))\n",
    "print('평균 :',sum(b)/a)\n",
    "print('최댓값 :',max(b))\n",
    "print('최솟값 : ',min(b))"
   ]
  },
  {
   "cell_type": "markdown",
   "metadata": {},
   "source": []
  },
  {
   "cell_type": "code",
   "execution_count": 75,
   "metadata": {},
   "outputs": [
    {
     "name": "stdout",
     "output_type": "stream",
     "text": [
      "dog cat tiger lion\n",
      "i love  cat\n",
      "i love  tiger\n",
      "i love  lion\n",
      "i love  dog\n",
      "['cat', 'tiger', 'lion', 'dog']\n"
     ]
    }
   ],
   "source": [
    "animals = list(x for x in input().split())\n",
    "tmp=animals[0]\n",
    "for i in range(len(animals)):\n",
    "     if i==len(animals)-1:\n",
    "            animals[i]=tmp\n",
    "            break\n",
    "     animals[i]=animals[i+1]\n",
    "\n",
    "for  i in animals:\n",
    "    print('i love ',i)\n",
    "   \n",
    "    \n",
    "    \n",
    "# input의 모든값은 기본이 str\n",
    "print(animals)\n"
   ]
  },
  {
   "cell_type": "code",
   "execution_count": null,
   "metadata": {},
   "outputs": [],
   "source": [
    "s_list = list(x for x in input().split())\n",
    "new_list= set(s_list)\n",
    "print(new_list)\n"
   ]
  },
  {
   "cell_type": "code",
   "execution_count": 89,
   "metadata": {},
   "outputs": [
    {
     "name": "stdout",
     "output_type": "stream",
     "text": [
      "aaasssdsdsd\n",
      "a 3s 3d 1s 1d 1s 1d 1\n",
      "aaasssdsdsd"
     ]
    }
   ],
   "source": [
    "\n",
    "class Fourcal:\n",
    "  def __init__(self , first):\n",
    "    self.word=first\n",
    "    self.value=1\n",
    "  def addvalue(self):\n",
    "    self.value+=1\n",
    "\n",
    "\n",
    "# a=Fourcal()\n",
    "str = input()\n",
    "# a.setdata(str[0])\n",
    "# a.addvalue()\n",
    "# list1=(a)\n",
    "# print(list1)\n",
    "# print(a.word,\"  \",a.value)\n",
    "pre = Fourcal('a')\n",
    "list1 =list()\n",
    "list1.append(pre)\n",
    "\n",
    "now=0\n",
    "for i in str[1:]:\n",
    "  if list1[now].word==i:\n",
    "    list1[now].addvalue()\n",
    "  else:\n",
    "    tmp=Fourcal(i)\n",
    "    list1.append(tmp)\n",
    "    now+=1\n",
    "for i in list1:\n",
    "  print(i.word,i.value, end='')\n",
    "print()\n",
    "for i in list1:\n",
    "  print(i.word*i.value, end='')\n"
   ]
  },
  {
   "cell_type": "code",
   "execution_count": 95,
   "metadata": {},
   "outputs": [
    {
     "name": "stdout",
     "output_type": "stream",
     "text": [
      "[5, 6, 3, 9, 2, 12, 3, 8, 7]\n",
      "9\n",
      "8\n",
      "7\n",
      "6\n",
      "5\n",
      "4\n",
      "3\n",
      "2\n",
      "1\n",
      "[5, 6, 3, 9, 2, 7, 3, 8, 12]\n"
     ]
    }
   ],
   "source": [
    "\n",
    "tup=[5,6,3,9,2,12,3,8,7]\n",
    "print(tup)\n",
    "tup[tup.index(max(tup))],tup[len(tup)-1]=tup[len(tup)-1],tup[tup.index(max(tup))]\n",
    "\n",
    "    print(i)\n",
    "\n",
    "print(tup)"
   ]
  },
  {
   "cell_type": "code",
   "execution_count": 97,
   "metadata": {},
   "outputs": [
    {
     "name": "stdout",
     "output_type": "stream",
     "text": [
      "[2, 3, 3, 5, 6, 7, 8, 9, 12]\n"
     ]
    }
   ],
   "source": [
    "tup=[5,6,3,9,2,12,3,8,7]\n",
    "for i in range(len(tup)-1,0,-1):\n",
    "    if i!=0:\n",
    "            tup[tup.index(max(tup[0:i+1]))],tup[i]=tup[i],tup[tup.index(max(tup[0:i+1]))]\n",
    "print(tup)"
   ]
  },
  {
   "cell_type": "code",
   "execution_count": 141,
   "metadata": {},
   "outputs": [
    {
     "name": "stdout",
     "output_type": "stream",
     "text": [
      "aaa &*^&*(*&(* aaa\n",
      "aaaaaa짝수네요??\n",
      "0\n",
      "1\n",
      "2\n",
      "3\n",
      "4\n",
      "5\n",
      "{'a'}\n",
      "{'a'}\n",
      "회문입니다.\n"
     ]
    }
   ],
   "source": [
    "str=input()\n",
    "str1=[]\n",
    "for i in str:\n",
    "    if 64<ord(i) and ord(i)<91:\n",
    "    \n",
    "        tmp=chr(ord(i)+32)\n",
    "        str1.append(tmp)\n",
    "  \n",
    "    if ord(i)>96 and ord(i)<123:        \n",
    "        str1.append(i)\n",
    "for i in str1:\n",
    "    print(i, end='')\n",
    "        \n",
    "        \n",
    "a=list()\n",
    "b=list()\n",
    "if len(str1)%2==0:\n",
    "    print(\"짝수네요??\")\n",
    "    for  i in range(int(len(str1)/2)):\n",
    "        \n",
    "        print(i)\n",
    "        a.append(str1[i])\n",
    "    a=set(a)\n",
    "    for i in range(int(len(str1)/2),len(str1)):\n",
    "        print(i)\n",
    "        b.append(str1[i])\n",
    "  \n",
    "    b=set(b)\n",
    "    print(a)\n",
    "    print(b)               \n",
    "    if a==b:\n",
    "        print('회문입니다.')\n",
    "    else:\n",
    "        print('회문아닙니다.')\n",
    "\n",
    "else:\n",
    "    print(\"홀수네요??\")\n",
    "       \n",
    "    for  i in range(int(len(str1)/2-1)):\n",
    "        \n",
    "        print(i)\n",
    "        a.append(str1[i])\n",
    "    a=set(a)\n",
    "    for i in range(int(len(str1)/2+1),len(str1)):\n",
    "      \n",
    "        print(i)\n",
    "        b.append(str1[i])\n",
    "  \n",
    "    b=set(b)\n",
    "    print(a)\n",
    "    print(b)               \n",
    "    if a==b:\n",
    "        print('회문입니다.')\n",
    "    else:\n",
    "        print('회문아닙니다.')"
   ]
  },
  {
   "cell_type": "code",
   "execution_count": 142,
   "metadata": {},
   "outputs": [
    {
     "name": "stdout",
     "output_type": "stream",
     "text": [
      "all:good\n",
      "all\n",
      "good\n",
      "q\n"
     ]
    }
   ],
   "source": [
    "dictionary={}\n",
    "\n",
    "while True:\n",
    "\n",
    "    str = input()\n",
    "    a = str.find(':')\n",
    "\n",
    "    if(str==''):\n",
    "        continue\n",
    "    if str == 'q':\n",
    "        break\n",
    "    if a>=0:\n",
    "        str1 = list()\n",
    "        str2=list()\n",
    "\n",
    "        # print(len(str))\n",
    "        for i in range(0,a):\n",
    "            # print(i)\n",
    "            str1.append(str[i])\n",
    "        for i in range(a+1,len(str)):\n",
    "            str2.append(str[i])\n",
    "        val1=''.join(s for s in str1)\n",
    "        val2=''.join(s for s in str2)\n",
    "        # print(val1)\n",
    "        # print(val2)\n",
    "        dictionary[val1]=val2\n",
    "    else:\n",
    "        # print(\"단어장까지옴\")\n",
    "        try :\n",
    "            print(dictionary[''.join(s for s in str)])\n",
    "\n",
    "        except:\n",
    "            print(''.join(s for s in str),'가 사전에 없습니다.')\n"
   ]
  },
  {
   "cell_type": "code",
   "execution_count": 144,
   "metadata": {},
   "outputs": [
    {
     "name": "stdout",
     "output_type": "stream",
     "text": [
      "-1 -1 치면 끝남30 40\n",
      "-1 -1 치면 끝남10 20\n",
      "-1 -1 치면 끝남50 60\n",
      "-1 -1 치면 끝남-1 -1\n",
      "찾을값60 50\n",
      "(60, 50) 요소는 없으나  2 에 (60, 50)  요소가 있습니다.\n"
     ]
    }
   ],
   "source": [
    "list1=list()\n",
    "while True:\n",
    "    a,b=map(int,input('-1 -1 치면 끝남').split())\n",
    "    if a == -1 and b == -1:\n",
    "        break\n",
    "    tmp=(a,b)\n",
    "\n",
    "\n",
    "    list1.append(tmp)\n",
    "a,b=map(int,input('찾을값').split())\n",
    "tmp=(a,b)\n",
    "done=0\n",
    "a=0\n",
    "for i in list1:\n",
    "    \n",
    "    if i[0]==tmp[0] and i[0]==tmp[0]:\n",
    "        done=1\n",
    "        print(a,'에 ',tmp,'요소가 있습니다.')\n",
    "        break\n",
    "    if i[0]==tmp[1] and i[1]==tmp[0]:\n",
    "         done=1\n",
    "        print(tmp, '요소는 없으나 ', a, '에' , tmp,' 요소가 있습니다.')\n",
    "        break\n",
    "   \n",
    "       \n",
    "    a+=1\n",
    "if done==0:\n",
    "    print('이 요소는 없습니다.')"
   ]
  },
  {
   "cell_type": "code",
   "execution_count": 146,
   "metadata": {},
   "outputs": [
    {
     "name": "stdout",
     "output_type": "stream",
     "text": [
      "지난 10 일간 매출감소한날은  3 일입니다\n"
     ]
    }
   ],
   "source": [
    "list =[100,121,120,130,140,120,122,123,190,125]\n",
    "count=0\n",
    "pre = list[0]\n",
    "for i in list:\n",
    "    if i < pre:\n",
    "        count+=1\n",
    "        pre=i\n",
    "    pre=i\n",
    "print('지난',len(list),'일간 매출감소한날은 ',count,'일입니다')"
   ]
  },
  {
   "cell_type": "code",
   "execution_count": 157,
   "metadata": {},
   "outputs": [
    {
     "name": "stdout",
     "output_type": "stream",
     "text": [
      "[1, 2, 3, 4, 5, 7]\n"
     ]
    }
   ],
   "source": [
    "tup=(1,2,5,4,3,1,1,1,3,2,1,5,7,7)\n",
    "list1=[]\n",
    "for i in tup:\n",
    "    list1.append(i)\n",
    "ans = set(list1)\n",
    "list1.clear()\n",
    "for i in ans:\n",
    "    list1.append(i)\n",
    "print(list1)\n",
    "\n",
    "# tup=(1,2,5,4,3,1,1,1,3,2,1,5,7,7)\n",
    "# list1=list(tup)\n",
    "# ans = set(list1)\n",
    "# list1=list(ans)\n",
    "# print(list1)\n",
    "# 파이참 같은 경우 list() 호출에 오류가 없었는데 \n",
    "# jupyter에서는 오류가 생겨 수정했습니다."
   ]
  },
  {
   "cell_type": "code",
   "execution_count": 158,
   "metadata": {},
   "outputs": [
    {
     "name": "stdout",
     "output_type": "stream",
     "text": [
      "학번을 입력하세요191101\n",
      "191101번 학생은  홍길동 입니다\n",
      "학번을 입력하세요191102\n",
      "191102번 학생은  임꺽정 입니다\n",
      "학번을 입력하세요123\n",
      "해당 학번의 학생은 없습니다\n",
      "학번을 입력하세요-1\n"
     ]
    }
   ],
   "source": [
    "dictionary={}\n",
    "student_tuple =(('191101','홍길동','010-123-45XX'),('191102','임꺽정','010-223-45XX'),\n",
    "                ('191103','장길산','010-323-45XX'))\n",
    "for i in student_tuple:\n",
    "    dictionary[''.join(s for s in i[0])]=''.join(s for s in i[1])\n",
    "\n",
    "while True:\n",
    "   str= input('학번을 입력하세요')\n",
    "   if str=='-1':\n",
    "       break\n",
    "   try:\n",
    "       print(str+'번 학생은 ',dictionary[''.join(s for s in str)],'입니다')\n",
    "   except:\n",
    "       print('해당 학번의 학생은 없습니다')"
   ]
  },
  {
   "cell_type": "code",
   "execution_count": 160,
   "metadata": {},
   "outputs": [
    {
     "name": "stdout",
     "output_type": "stream",
     "text": [
      "A와B에 보낼 투표용지의 개수는 각각  971  장과  1698 장 입니다\n",
      "마을 A와B의 고령화 정도는 각각  0.16461916461916462 와 0.0033085194375516956 입니다\n"
     ]
    }
   ],
   "source": [
    "a=(100,150,230,120,180,100,140,95,81,21,4)\n",
    "b=(300,420,530,420,400,300,40,5,1,1,1)\n",
    "print('A와B에 보낼 투표용지의 개수는 각각 ',sum(a[2:]),\n",
    "        ' 장과 ',sum(b[2:]),'장 입니다')\n",
    "print('마을 A와B의 고령화 정도는 각각 ',sum(a[7:])/sum(a) ,'와',sum(b[7:])/sum(b) ,'입니다')"
   ]
  },
  {
   "cell_type": "code",
   "execution_count": 178,
   "metadata": {},
   "outputs": [
    {
     "name": "stdout",
     "output_type": "stream",
     "text": [
      "26\n",
      "DEFGHIJKLMNOPQRSTUVWXYZABC\n",
      "문장입력ATTACK TONIGHT\n",
      "ATTACK TONIGHT\n",
      "A의 인덱스 0\n",
      "0번째 알파벳 D\n",
      "src_str B인덱스: 1\n",
      "1번째 알파벳 E\n",
      "DWWDFN WRQLJKW\n",
      "ATTACK TONIGHT\n"
     ]
    }
   ],
   "source": [
    "src_str = 'ABCDEFGHIJKLMNOPQRSTUVWXYZ'\n",
    "print(len(src_str))\n",
    "dst_str = src_str[3:]+src_str[:3]\n",
    "print(dst_str)\n",
    "\n",
    "def ciper(a,b,c):\n",
    "    print('A의 인덱스',a.index('A'))\n",
    "    print('0번째 알파벳',b[0])\n",
    "    print('src_str B인덱스:',a.index('B'))\n",
    "    print('1번째 알파벳',b[1])\n",
    "    list1=list()\n",
    "    list2=list()\n",
    "    for i in c:\n",
    "       \n",
    "        if (64<ord(i) and ord(i)<91) or (ord(i)>96 and ord(i)<123):\n",
    "          \n",
    "            for j in a:\n",
    "                if j==i:\n",
    "                    list1.append(b[a.index(j)])\n",
    "        else:\n",
    "            list1.append(i)\n",
    "    for i in list1:\n",
    "       \n",
    "        if (64<ord(i) and ord(i)<91) or (ord(i)>96 and ord(i)<123):\n",
    "          \n",
    "            for j in a:\n",
    "                if j==i:\n",
    "                    list2.append(a[b.index(j)])\n",
    "        else:\n",
    "            list2.append(i)\n",
    "    \n",
    "    return list1,list2\n",
    "            \n",
    "c=input('문장입력')\n",
    "print(c)\n",
    "c,d=ciper(src_str,dst_str,c)\n",
    "print(''.join(s for s in c))\n",
    "print(''.join(s for s in d))"
   ]
  },
  {
   "cell_type": "code",
   "execution_count": null,
   "metadata": {},
   "outputs": [],
   "source": []
  }
 ],
 "metadata": {
  "kernelspec": {
   "display_name": "Python 3 (ipykernel)",
   "language": "python",
   "name": "python3"
  },
  "language_info": {
   "codemirror_mode": {
    "name": "ipython",
    "version": 3
   },
   "file_extension": ".py",
   "mimetype": "text/x-python",
   "name": "python",
   "nbconvert_exporter": "python",
   "pygments_lexer": "ipython3",
   "version": "3.9.12"
  }
 },
 "nbformat": 4,
 "nbformat_minor": 4
}
