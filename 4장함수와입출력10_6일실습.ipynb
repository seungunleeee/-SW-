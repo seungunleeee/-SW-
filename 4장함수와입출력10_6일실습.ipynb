{
 "cells": [
  {
   "cell_type": "code",
   "execution_count": 2,
   "id": "ccbb7274",
   "metadata": {},
   "outputs": [
    {
     "name": "stdout",
     "output_type": "stream",
     "text": [
      "*******************\n",
      "*******************\n",
      "*******************\n",
      "*******************\n",
      "*******************\n",
      "*******************\n"
     ]
    }
   ],
   "source": [
    "def print_star():\n",
    "    print('*******************')\n",
    "print_star();\n",
    "print_star();\n",
    "print_star();\n",
    "print_star();\n",
    "print_star();\n",
    "print_star();"
   ]
  },
  {
   "cell_type": "code",
   "execution_count": 5,
   "id": "e58374be",
   "metadata": {},
   "outputs": [
    {
     "name": "stdout",
     "output_type": "stream",
     "text": [
      "5\n"
     ]
    }
   ],
   "source": [
    "def add(a,b):\n",
    "    return a+b\n",
    "e=add(2,3)\n",
    "print(e)"
   ]
  },
  {
   "cell_type": "code",
   "execution_count": 6,
   "id": "4a77dd9c",
   "metadata": {},
   "outputs": [
    {
     "name": "stdout",
     "output_type": "stream",
     "text": [
      "*******************\n",
      "*******************\n",
      "*******************\n",
      "*******************\n",
      "*******************\n",
      "*******************\n",
      "*******************\n",
      "*******************\n"
     ]
    }
   ],
   "source": [
    "def print_star():\n",
    "    for i in range(4):\n",
    "        print('*******************')\n",
    "print_star()\n",
    "print_star()"
   ]
  },
  {
   "cell_type": "code",
   "execution_count": 8,
   "id": "5a493870",
   "metadata": {},
   "outputs": [
    {
     "name": "stdout",
     "output_type": "stream",
     "text": [
      "####################\n",
      "*******************\n",
      "+++++++++++++++++++++\n",
      "+++++++++++++++++++++\n",
      "*******************\n",
      "####################\n"
     ]
    }
   ],
   "source": [
    "def print_star():\n",
    "    print('*******************')\n",
    "def print_hash():\n",
    "    print('####################')\n",
    "def print_plus():\n",
    "    print('+++++++++++++++++++++')\n",
    "print_hash()\n",
    "print_star()\n",
    "print_plus()\n",
    "print_plus()\n",
    "print_star()\n",
    "print_hash()"
   ]
  },
  {
   "cell_type": "code",
   "execution_count": 14,
   "id": "9066067a",
   "metadata": {},
   "outputs": [
    {
     "name": "stdout",
     "output_type": "stream",
     "text": [
      "**********\n",
      "##########\n",
      "0 ############\n",
      "1 ############\n",
      "2 ############\n",
      "3 ############\n",
      "4 ############\n",
      "5 ############\n"
     ]
    }
   ],
   "source": [
    "def print_star(a):\n",
    "    print('*'*a)\n",
    "def print_hash(a):\n",
    "    print('#'*a)\n",
    "def print_hashs(a):\n",
    "    for i in range(a):\n",
    "        print(i,'############')\n",
    "print_star(10)\n",
    "print_hash(10)\n",
    "print_hashs(6)\n"
   ]
  },
  {
   "cell_type": "code",
   "execution_count": 40,
   "id": "8ac9e4cf",
   "metadata": {},
   "outputs": [
    {
     "name": "stdout",
     "output_type": "stream",
     "text": [
      "10과 20의 차는 -10입니다.\n",
      "10과 20의 곱은 200입니다.\n"
     ]
    }
   ],
   "source": [
    "def print_sub(a,b):\n",
    "    print(\"{0}과 {1}의 차는 {2}입니다.\".format(a,b,a-b))\n",
    "    \n",
    "print_sub(10,20)\n",
    "def print_mul(a,b):\n",
    "    print(\"{0}과 {1}의 곱은 {2}입니다.\".format(a,b,a*b))\n",
    "print_mul(10,20)"
   ]
  },
  {
   "cell_type": "code",
   "execution_count": 44,
   "id": "c1d98e37",
   "metadata": {},
   "outputs": [
    {
     "name": "stdout",
     "output_type": "stream",
     "text": [
      "반지름 10인 원의 면적은 314.0, 원의 둘레는 62.800000000000004\n"
     ]
    }
   ],
   "source": [
    "def circle_area_circim(radius):\n",
    "    return radius**2*3.14,2*3.14*radius\n",
    "area,circum = circle_area_circim(10)\n",
    "print(\"반지름 {}인 원의 면적은 {}, 원의 둘레는 {}\".format(10,area,circum))\n",
    "\n"
   ]
  },
  {
   "cell_type": "code",
   "execution_count": 60,
   "id": "56351da9",
   "metadata": {},
   "outputs": [
    {
     "name": "stdout",
     "output_type": "stream",
     "text": [
      "3 6 9 12\n",
      "2 4 6 8 10\n"
     ]
    }
   ],
   "source": [
    "def multiple(a,b):\n",
    "    c=[]\n",
    "    for i in range(b):\n",
    "        c.append(a*(i+1))\n",
    "    return c\n",
    "r1,r2,r3,r4 = multiple(3,4)\n",
    "print(r1,r2,r3,r4)\n",
    "r1,r2,r3,r4,r5=multiple(2,5)\n",
    "print(r1,r2,r3,r4,r5)"
   ]
  },
  {
   "cell_type": "code",
   "execution_count": 64,
   "id": "3b550b13",
   "metadata": {},
   "outputs": [
    {
     "name": "stdout",
     "output_type": "stream",
     "text": [
      "Dr. Gildong Hong\n"
     ]
    }
   ],
   "source": [
    "def print_name(honorifics,first_name,last_name):\n",
    "    ''' 키워드 인자를 이용한 출력용 프로그램'''\n",
    "    print(honorifics,first_name,last_name)\n",
    "print_name(first_name='Gildong',last_name='Hong',honorifics='Dr.')"
   ]
  },
  {
   "cell_type": "code",
   "execution_count": 67,
   "id": "65b4115e",
   "metadata": {},
   "outputs": [
    {
     "name": "stdout",
     "output_type": "stream",
     "text": [
      "안녕하세요 홍길동 씨\n",
      "안녕하세요 양만춘 씨\n",
      "안녕하세요 이순신 씨\n",
      "안녕하세요 James 씨\n",
      "안녕하세요 Thomas 씨\n"
     ]
    }
   ],
   "source": [
    "def greet(*names):\n",
    "    for name in names:\n",
    "        print('안녕하세요', name, '씨')\n",
    "greet('홍길동', '양만춘', '이순신') # 인자가 3개\n",
    "greet('James', 'Thomas') # 인자가 2개\n"
   ]
  },
  {
   "cell_type": "code",
   "execution_count": 9,
   "id": "1d6aeca2",
   "metadata": {},
   "outputs": [
    {
     "name": "stdout",
     "output_type": "stream",
     "text": [
      "합계 : 60 , 평균:20.0\n",
      "합계 : 150 , 평균:30.0\n",
      "최솟값은 10\n"
     ]
    }
   ],
   "source": [
    "\n",
    "def sum(*names):\n",
    "    a=0\n",
    "    for i in names:\n",
    "        a+=i\n",
    "    print(\"합계 : {} , 평균:{}\".format(a,a/len(names)))\n",
    "def min_nums(*names):\n",
    "    min=100000\n",
    "    for i in names:\n",
    "        if i<min:\n",
    "            min=i\n",
    "    print(\"최솟값은 {}\".format(min))\n",
    "sum(10,20,30)\n",
    "sum(10,20,30,40,50)\n",
    "min_nums(20,40,50,10)"
   ]
  },
  {
   "cell_type": "code",
   "execution_count": 12,
   "id": "09413d90",
   "metadata": {},
   "outputs": [
    {
     "name": "stdout",
     "output_type": "stream",
     "text": [
      "몇 개의 피보나치수를 원하세요? 10\n",
      "55\n"
     ]
    }
   ],
   "source": [
    "def fibonacci(n): # 피보나치 함수의 재귀적 구현\n",
    "    if n <= 1: # 피보나치 함수의 종료조건\n",
    "        return n\n",
    "    else:\n",
    "        return(fibonacci(n-1) + fibonacci(n-2)) # F_n = F_(n-1) + F_(n-2)\n",
    "nterms = int(input(\"몇 개의 피보나치수를 원하세요? \"))\n",
    "print(fibonacci(nterms))"
   ]
  },
  {
   "cell_type": "code",
   "execution_count": 13,
   "id": "aec1b83b",
   "metadata": {},
   "outputs": [
    {
     "name": "stdout",
     "output_type": "stream",
     "text": [
      "문자열 2개를 입력하세요: hellow world\n",
      "hellow\n",
      "world\n"
     ]
    }
   ],
   "source": [
    " s1, s2 = input('문자열 2개를 입력하세요: ').split()\n",
    "print (s1)\n",
    "print(s2)"
   ]
  },
  {
   "cell_type": "code",
   "execution_count": 15,
   "id": "c9797bea",
   "metadata": {},
   "outputs": [
    {
     "name": "stdout",
     "output_type": "stream",
     "text": [
      "당신의 이름을 입력해주세요김철수\n",
      "나이를 입력해주세요21\n",
      "직업을 입력해주세요학생\n",
      "사는곳을 입력해주세요:창원시\n",
      "당신의 이름은 김철수, 나이는 21살, 직업은 학생, 사는 곳은 창원시입니다.\n"
     ]
    }
   ],
   "source": [
    "name = input('당신의 이름을 입력해주세요')\n",
    "age = int(input('나이를 입력해주세요'))\n",
    "job =  input('직업을 입력해주세요')\n",
    "residence = input('사는곳을 입력해주세요:')\n",
    "print(\"당신의 이름은 {}, 나이는 {}살, 직업은 {}, 사는 곳은 {}입니다.\".format(name,age,job,residence))"
   ]
  },
  {
   "cell_type": "code",
   "execution_count": 20,
   "id": "cdb1e462",
   "metadata": {},
   "outputs": [
    {
     "name": "stdout",
     "output_type": "stream",
     "text": [
      "A_B_C_D\n",
      "My favorite thing is cartoons\n"
     ]
    }
   ],
   "source": [
    "print('_'.join('ABCD'))\n",
    "s1 = \"My favorite thing is monsters\"\n",
    "print(s1.replace('monsters','cartoons'))"
   ]
  },
  {
   "cell_type": "code",
   "execution_count": 31,
   "id": "b3c164a2",
   "metadata": {},
   "outputs": [
    {
     "name": "stdout",
     "output_type": "stream",
     "text": [
      "3 45 32 5 7 8 4 44 5 90 17\n",
      "평균값은 : 2e+01\n",
      "최댓값은 90\n",
      "최솟값은 3\n"
     ]
    }
   ],
   "source": [
    "a = list(map(int, input().split()))\n",
    "def mean_of_n(nums):\n",
    "    a=0\n",
    "    for i in nums:\n",
    "        a+=i\n",
    "    print(\"평균값은 : {}\".format(a/len(nums)))\n",
    "def min_nums(nums):\n",
    "    min=100000\n",
    "    for i in nums:\n",
    "        if i<min:\n",
    "            min=i\n",
    "    print(\"최솟값은 {}\".format(min))\n",
    "def max_nums(nums):\n",
    "    max=0\n",
    "    for i in nums:\n",
    "        if i>max:\n",
    "            max=i\n",
    "    print(\"최댓값은 {}\".format(max))\n",
    "\n",
    "mean_of_n(a)  \n",
    "max_nums(a)\n",
    "min_nums(a)"
   ]
  },
  {
   "cell_type": "code",
   "execution_count": 35,
   "id": "f1d95039",
   "metadata": {},
   "outputs": [
    {
     "name": "stdout",
     "output_type": "stream",
     "text": [
      "x1값 입력0\n",
      "y1값 입력0\n",
      "x2값 입력3\n",
      "y2값 입력4\n",
      "직각삼각형의 면적은 : 6.0\n"
     ]
    }
   ],
   "source": [
    "def area(x1,y1,x2,y2):\n",
    "    return (x2-x1)*(y2-y1)/2\n",
    "\n",
    "\n",
    "x1= int(input('x1값 입력'))\n",
    "y1= int(input('y1값 입력'))\n",
    "x2= int(input('x2값 입력'))\n",
    "y2= int(input('y2값 입력'))\n",
    "print(\"직각삼각형의 면적은 : {}\".format(area(x1,y1,x2,y2)))"
   ]
  },
  {
   "cell_type": "code",
   "execution_count": 65,
   "id": "4dec85c9",
   "metadata": {},
   "outputs": [
    {
     "name": "stdout",
     "output_type": "stream",
     "text": [
      "쉼표로 구분된 정수를 여러 개 입력하시오 : 56,67,89,34,24,300,99\n",
      "입력된 정수의 리스트 : [56, 67, 89, 34, 24, 300, 99]\n",
      "정렬된 정수의 리스트 :  [24, 34, 56, 67, 89, 99, 300]\n"
     ]
    }
   ],
   "source": [
    "a = input('쉼표로 구분된 정수를 여러 개 입력하시오 : ')\n",
    "\n",
    "b= list(map(int,a.split(',')))\n",
    "print(\"입력된 정수의 리스트 : {}\".format(b))\n",
    "b.sort()\n",
    "print(\"정렬된 정수의 리스트 : \",b)\n",
    "\n"
   ]
  },
  {
   "cell_type": "code",
   "execution_count": 76,
   "id": "bde5ba67",
   "metadata": {},
   "outputs": [
    {
     "name": "stdout",
     "output_type": "stream",
     "text": [
      "범위의 시작 정수 , 범위의 마지막 정수3 5\n",
      "범위의 시작 정수 : 3 \n",
      " 범위의 마지막 정수 : 5 \n",
      " {,}부터 {,}까지의 정수들의 최소 공배수는 :60\n"
     ]
    }
   ],
   "source": [
    "a,b =map(int,input(\"범위의 시작 정수 , 범위의 마지막 정수\").split())\n",
    "def check(tem,stat,end):\n",
    "    for i in range(stat,end+1):\n",
    "        if tem%i != 0:\n",
    "            return 0\n",
    "    return 1\n",
    "i=2;\n",
    "while True:\n",
    "    if check(i,a,b)==1:\n",
    "        break\n",
    "    i+=1\n",
    "print(\"범위의 시작 정수 : {} \\n 범위의 마지막 정수 : {} \\n {{,}}부터 {{,}}까지의 정수들의 최소 공배수는 :{}\".format(a,b,i))\n"
   ]
  },
  {
   "cell_type": "code",
   "execution_count": 103,
   "id": "b9eee261",
   "metadata": {},
   "outputs": [
    {
     "name": "stdout",
     "output_type": "stream",
     "text": [
      "1보다 작고 0보다 큰 소수를 입력하세요: 0.0732\n",
      "가장 가까운 단위 분수는 1/14이며 이값은 0.07142857142857142입니다.\n"
     ]
    }
   ],
   "source": [
    "a = float(input('1보다 작고 0보다 큰 소수를 입력하세요: '))\n",
    "def unit_fraction(frac):\n",
    "    min=1\n",
    "    sml=0\n",
    "    \n",
    "    for i in range(2,1000):\n",
    "    \n",
    "        if abs(frac-1/i)<min:\n",
    "\n",
    "            min=abs(frac-1/i)\n",
    "            sml=i\n",
    "            ans=1/i\n",
    "    return ans,sml\n",
    "   \n",
    "   \n",
    "min,sml=unit_fraction(a)\n",
    "print(\"가장 가까운 단위 분수는 1/{}이며 이값은 {}입니다.\".format(sml,min))"
   ]
  },
  {
   "cell_type": "code",
   "execution_count": null,
   "id": "68624d4c",
   "metadata": {},
   "outputs": [],
   "source": []
  }
 ],
 "metadata": {
  "kernelspec": {
   "display_name": "Python 3 (ipykernel)",
   "language": "python",
   "name": "python3"
  },
  "language_info": {
   "codemirror_mode": {
    "name": "ipython",
    "version": 3
   },
   "file_extension": ".py",
   "mimetype": "text/x-python",
   "name": "python",
   "nbconvert_exporter": "python",
   "pygments_lexer": "ipython3",
   "version": "3.9.12"
  }
 },
 "nbformat": 4,
 "nbformat_minor": 5
}
